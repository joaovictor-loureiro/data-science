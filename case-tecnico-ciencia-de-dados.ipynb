{
  "nbformat": 4,
  "nbformat_minor": 0,
  "metadata": {
    "colab": {
      "name": "Case Técnico | Ciência de Dados",
      "provenance": [],
      "collapsed_sections": [],
      "authorship_tag": "ABX9TyNfw3bkl0VrBWaVeIsMk6BA",
      "include_colab_link": true
    },
    "kernelspec": {
      "name": "python3",
      "display_name": "Python 3"
    },
    "language_info": {
      "name": "python"
    }
  },
  "cells": [
    {
      "cell_type": "markdown",
      "metadata": {
        "id": "view-in-github",
        "colab_type": "text"
      },
      "source": [
        "<a href=\"https://colab.research.google.com/github/joaovictor-loureiro/data-science/blob/master/case-tecnico-ciencia-de-dados.ipynb\" target=\"_parent\"><img src=\"https://colab.research.google.com/assets/colab-badge.svg\" alt=\"Open In Colab\"/></a>"
      ]
    },
    {
      "cell_type": "code",
      "metadata": {
        "id": "1qlCtqY350If"
      },
      "source": [
        "# Importando as bibliotecas necessárias\n",
        "import pandas as pd\n",
        "import matplotlib.pyplot as plt\n",
        "import seaborn as sns"
      ],
      "execution_count": 47,
      "outputs": []
    },
    {
      "cell_type": "code",
      "metadata": {
        "id": "ysOUWTSz6Cwx"
      },
      "source": [
        "# Importando o dataset\n",
        "df = pd.read_csv('https://raw.githubusercontent.com/joaovictor-loureiro/data-science/master/data-science/datasets/heart.csv')"
      ],
      "execution_count": 15,
      "outputs": []
    },
    {
      "cell_type": "code",
      "metadata": {
        "colab": {
          "base_uri": "https://localhost:8080/",
          "height": 195
        },
        "id": "qdFePiZq6Ho3",
        "outputId": "87424be5-b80d-4b38-d42b-533c2b45b75d"
      },
      "source": [
        "# Ver as primeiras entradas\n",
        "df.head()"
      ],
      "execution_count": 3,
      "outputs": [
        {
          "output_type": "execute_result",
          "data": {
            "text/html": [
              "<div>\n",
              "<style scoped>\n",
              "    .dataframe tbody tr th:only-of-type {\n",
              "        vertical-align: middle;\n",
              "    }\n",
              "\n",
              "    .dataframe tbody tr th {\n",
              "        vertical-align: top;\n",
              "    }\n",
              "\n",
              "    .dataframe thead th {\n",
              "        text-align: right;\n",
              "    }\n",
              "</style>\n",
              "<table border=\"1\" class=\"dataframe\">\n",
              "  <thead>\n",
              "    <tr style=\"text-align: right;\">\n",
              "      <th></th>\n",
              "      <th>age</th>\n",
              "      <th>sex</th>\n",
              "      <th>cp</th>\n",
              "      <th>trestbps</th>\n",
              "      <th>chol</th>\n",
              "      <th>fbs</th>\n",
              "      <th>restecg</th>\n",
              "      <th>thalach</th>\n",
              "      <th>exang</th>\n",
              "      <th>oldpeak</th>\n",
              "      <th>slope</th>\n",
              "      <th>ca</th>\n",
              "      <th>thal</th>\n",
              "      <th>target</th>\n",
              "    </tr>\n",
              "  </thead>\n",
              "  <tbody>\n",
              "    <tr>\n",
              "      <th>0</th>\n",
              "      <td>63</td>\n",
              "      <td>1</td>\n",
              "      <td>3</td>\n",
              "      <td>145</td>\n",
              "      <td>233</td>\n",
              "      <td>1</td>\n",
              "      <td>0</td>\n",
              "      <td>150</td>\n",
              "      <td>0</td>\n",
              "      <td>2.3</td>\n",
              "      <td>0</td>\n",
              "      <td>0</td>\n",
              "      <td>1</td>\n",
              "      <td>1</td>\n",
              "    </tr>\n",
              "    <tr>\n",
              "      <th>1</th>\n",
              "      <td>37</td>\n",
              "      <td>1</td>\n",
              "      <td>2</td>\n",
              "      <td>130</td>\n",
              "      <td>250</td>\n",
              "      <td>0</td>\n",
              "      <td>1</td>\n",
              "      <td>187</td>\n",
              "      <td>0</td>\n",
              "      <td>3.5</td>\n",
              "      <td>0</td>\n",
              "      <td>0</td>\n",
              "      <td>2</td>\n",
              "      <td>1</td>\n",
              "    </tr>\n",
              "    <tr>\n",
              "      <th>2</th>\n",
              "      <td>41</td>\n",
              "      <td>0</td>\n",
              "      <td>1</td>\n",
              "      <td>130</td>\n",
              "      <td>204</td>\n",
              "      <td>0</td>\n",
              "      <td>0</td>\n",
              "      <td>172</td>\n",
              "      <td>0</td>\n",
              "      <td>1.4</td>\n",
              "      <td>2</td>\n",
              "      <td>0</td>\n",
              "      <td>2</td>\n",
              "      <td>1</td>\n",
              "    </tr>\n",
              "    <tr>\n",
              "      <th>3</th>\n",
              "      <td>56</td>\n",
              "      <td>1</td>\n",
              "      <td>1</td>\n",
              "      <td>120</td>\n",
              "      <td>236</td>\n",
              "      <td>0</td>\n",
              "      <td>1</td>\n",
              "      <td>178</td>\n",
              "      <td>0</td>\n",
              "      <td>0.8</td>\n",
              "      <td>2</td>\n",
              "      <td>0</td>\n",
              "      <td>2</td>\n",
              "      <td>1</td>\n",
              "    </tr>\n",
              "    <tr>\n",
              "      <th>4</th>\n",
              "      <td>57</td>\n",
              "      <td>0</td>\n",
              "      <td>0</td>\n",
              "      <td>120</td>\n",
              "      <td>354</td>\n",
              "      <td>0</td>\n",
              "      <td>1</td>\n",
              "      <td>163</td>\n",
              "      <td>1</td>\n",
              "      <td>0.6</td>\n",
              "      <td>2</td>\n",
              "      <td>0</td>\n",
              "      <td>2</td>\n",
              "      <td>1</td>\n",
              "    </tr>\n",
              "  </tbody>\n",
              "</table>\n",
              "</div>"
            ],
            "text/plain": [
              "   age  sex  cp  trestbps  chol  fbs  ...  exang  oldpeak  slope  ca  thal  target\n",
              "0   63    1   3       145   233    1  ...      0      2.3      0   0     1       1\n",
              "1   37    1   2       130   250    0  ...      0      3.5      0   0     2       1\n",
              "2   41    0   1       130   204    0  ...      0      1.4      2   0     2       1\n",
              "3   56    1   1       120   236    0  ...      0      0.8      2   0     2       1\n",
              "4   57    0   0       120   354    0  ...      1      0.6      2   0     2       1\n",
              "\n",
              "[5 rows x 14 columns]"
            ]
          },
          "metadata": {
            "tags": []
          },
          "execution_count": 3
        }
      ]
    },
    {
      "cell_type": "markdown",
      "metadata": {
        "id": "hzDC8J-l6Vda"
      },
      "source": [
        "# 1) O que você entendeu do dataset?\n",
        "\n",
        "Basicamente, é um dataset sobre dados da sua saúde, e vai indicar quais são as chances de você ter um infarto."
      ]
    },
    {
      "cell_type": "markdown",
      "metadata": {
        "id": "i0pECml27OcJ"
      },
      "source": [
        "# 2) Catálogo de informações.\n",
        "\n",
        "* `age` - Idade da pessoa\n",
        "* `sex` - Sexo da pessoa\n",
        "* `cp` - Tipo de dor no peito (possui 4 níveis)\n",
        "* `trestbps` - Pressão arterial da pessoa, quando está em repouso\n",
        "* `chol` - Nível de colesterol sérico da pessoa\n",
        "* `fbs` - Nível de açúcar no sangue da pessoa, em jejum\n",
        "* `restecg` - Resultado de exames eletrocardiográficos da pessoa, em repouso\n",
        "* `thalach` - Máximo de frequência cardíaca alcançado\n",
        "* `exang` - Se a pessoa possui angina (dor no peito) induzida por exercíco\n",
        "* `oldpeak`- Depressão do segmento ST induzido por exercício\n",
        "* `slope` - Inclinação do segmento ST induzido no pico de exercício\n",
        "* `ca` - Número de vasos coloridos por fluoroscopia\n",
        "* `thal` - Normal / Defeito corrigido / Defeito reversível\n",
        "* `target` - Representa se a pessoa possui ou não chances de ter um ataque cardíaco. 0 (não) e 1 (sim).\n"
      ]
    },
    {
      "cell_type": "markdown",
      "metadata": {
        "id": "BsrYo1gF-ZVq"
      },
      "source": [
        "# 3) Precisa tratar/normalizar algum dado?\n",
        "\n"
      ]
    },
    {
      "cell_type": "code",
      "metadata": {
        "colab": {
          "base_uri": "https://localhost:8080/",
          "height": 592
        },
        "id": "H4QUQuLk-iuR",
        "outputId": "22d5b55a-c473-4e71-9836-54b455a27a06"
      },
      "source": [
        "# Plotando um Boxplot\n",
        "df.plot(kind='box', figsize=(20, 10))\n",
        "\n",
        "plt.show()"
      ],
      "execution_count": 10,
      "outputs": [
        {
          "output_type": "display_data",
          "data": {
            "image/png": "[encoded data removed]",
            "text/plain": [
              "<Figure size 1440x720 with 1 Axes>"
            ]
          },
          "metadata": {
            "tags": [],
            "needs_background": "light"
          }
        }
      ]
    },
    {
      "cell_type": "markdown",
      "metadata": {
        "id": "E79uLbsx-yJ4"
      },
      "source": [
        "Olhando o boxplot acima, eu diria que alguns dados precisariam ser tratados, já que possuem outliers. Porém, como não tenho conhecimento suficiente para chegar a conclusão se devo ou não trata-los, optarei por manter a integridade original do dataset."
      ]
    },
    {
      "cell_type": "markdown",
      "metadata": {
        "id": "1r3Aek8J_pTY"
      },
      "source": [
        "# 4) Tente ordenar as features por relevância.\n",
        "\n",
        "Acredito que esta seria uma ordem de relevância do dataset:"
      ]
    },
    {
      "cell_type": "code",
      "metadata": {
        "colab": {
          "base_uri": "https://localhost:8080/",
          "height": 195
        },
        "id": "KYe9HnmnA60x",
        "outputId": "97fc70d2-0202-4dbb-95c8-52427e9aab4a"
      },
      "source": [
        "df = df[['trestbps', 'cp', 'restecg', 'exang', 'age', 'chol', 'fbs', 'oldpeak', 'slope', 'thalach', 'ca', 'thal', 'sex', 'target']]\n",
        "df.head()"
      ],
      "execution_count": 16,
      "outputs": [
        {
          "output_type": "execute_result",
          "data": {
            "text/html": [
              "<div>\n",
              "<style scoped>\n",
              "    .dataframe tbody tr th:only-of-type {\n",
              "        vertical-align: middle;\n",
              "    }\n",
              "\n",
              "    .dataframe tbody tr th {\n",
              "        vertical-align: top;\n",
              "    }\n",
              "\n",
              "    .dataframe thead th {\n",
              "        text-align: right;\n",
              "    }\n",
              "</style>\n",
              "<table border=\"1\" class=\"dataframe\">\n",
              "  <thead>\n",
              "    <tr style=\"text-align: right;\">\n",
              "      <th></th>\n",
              "      <th>trestbps</th>\n",
              "      <th>cp</th>\n",
              "      <th>restecg</th>\n",
              "      <th>exang</th>\n",
              "      <th>age</th>\n",
              "      <th>chol</th>\n",
              "      <th>fbs</th>\n",
              "      <th>oldpeak</th>\n",
              "      <th>slope</th>\n",
              "      <th>thalach</th>\n",
              "      <th>ca</th>\n",
              "      <th>thal</th>\n",
              "      <th>sex</th>\n",
              "      <th>target</th>\n",
              "    </tr>\n",
              "  </thead>\n",
              "  <tbody>\n",
              "    <tr>\n",
              "      <th>0</th>\n",
              "      <td>145</td>\n",
              "      <td>3</td>\n",
              "      <td>0</td>\n",
              "      <td>0</td>\n",
              "      <td>63</td>\n",
              "      <td>233</td>\n",
              "      <td>1</td>\n",
              "      <td>2.3</td>\n",
              "      <td>0</td>\n",
              "      <td>150</td>\n",
              "      <td>0</td>\n",
              "      <td>1</td>\n",
              "      <td>1</td>\n",
              "      <td>1</td>\n",
              "    </tr>\n",
              "    <tr>\n",
              "      <th>1</th>\n",
              "      <td>130</td>\n",
              "      <td>2</td>\n",
              "      <td>1</td>\n",
              "      <td>0</td>\n",
              "      <td>37</td>\n",
              "      <td>250</td>\n",
              "      <td>0</td>\n",
              "      <td>3.5</td>\n",
              "      <td>0</td>\n",
              "      <td>187</td>\n",
              "      <td>0</td>\n",
              "      <td>2</td>\n",
              "      <td>1</td>\n",
              "      <td>1</td>\n",
              "    </tr>\n",
              "    <tr>\n",
              "      <th>2</th>\n",
              "      <td>130</td>\n",
              "      <td>1</td>\n",
              "      <td>0</td>\n",
              "      <td>0</td>\n",
              "      <td>41</td>\n",
              "      <td>204</td>\n",
              "      <td>0</td>\n",
              "      <td>1.4</td>\n",
              "      <td>2</td>\n",
              "      <td>172</td>\n",
              "      <td>0</td>\n",
              "      <td>2</td>\n",
              "      <td>0</td>\n",
              "      <td>1</td>\n",
              "    </tr>\n",
              "    <tr>\n",
              "      <th>3</th>\n",
              "      <td>120</td>\n",
              "      <td>1</td>\n",
              "      <td>1</td>\n",
              "      <td>0</td>\n",
              "      <td>56</td>\n",
              "      <td>236</td>\n",
              "      <td>0</td>\n",
              "      <td>0.8</td>\n",
              "      <td>2</td>\n",
              "      <td>178</td>\n",
              "      <td>0</td>\n",
              "      <td>2</td>\n",
              "      <td>1</td>\n",
              "      <td>1</td>\n",
              "    </tr>\n",
              "    <tr>\n",
              "      <th>4</th>\n",
              "      <td>120</td>\n",
              "      <td>0</td>\n",
              "      <td>1</td>\n",
              "      <td>1</td>\n",
              "      <td>57</td>\n",
              "      <td>354</td>\n",
              "      <td>0</td>\n",
              "      <td>0.6</td>\n",
              "      <td>2</td>\n",
              "      <td>163</td>\n",
              "      <td>0</td>\n",
              "      <td>2</td>\n",
              "      <td>0</td>\n",
              "      <td>1</td>\n",
              "    </tr>\n",
              "  </tbody>\n",
              "</table>\n",
              "</div>"
            ],
            "text/plain": [
              "   trestbps  cp  restecg  exang  age  ...  thalach  ca  thal  sex  target\n",
              "0       145   3        0      0   63  ...      150   0     1    1       1\n",
              "1       130   2        1      0   37  ...      187   0     2    1       1\n",
              "2       130   1        0      0   41  ...      172   0     2    0       1\n",
              "3       120   1        1      0   56  ...      178   0     2    1       1\n",
              "4       120   0        1      1   57  ...      163   0     2    0       1\n",
              "\n",
              "[5 rows x 14 columns]"
            ]
          },
          "metadata": {
            "tags": []
          },
          "execution_count": 16
        }
      ]
    },
    {
      "cell_type": "markdown",
      "metadata": {
        "id": "21vRTtVfBe6c"
      },
      "source": [
        "# 5) Tente clusterizar os dados."
      ]
    },
    {
      "cell_type": "code",
      "metadata": {
        "id": "EjFoR8geA8Gf"
      },
      "source": [
        "# Importar o modelo\n",
        "from sklearn.cluster import KMeans"
      ],
      "execution_count": 17,
      "outputs": []
    },
    {
      "cell_type": "code",
      "metadata": {
        "id": "O01GbnS8B0Bx"
      },
      "source": [
        "# Instanciar o modelo e definir hyperparameters\n",
        "model = KMeans(n_clusters=3)"
      ],
      "execution_count": 28,
      "outputs": []
    },
    {
      "cell_type": "code",
      "metadata": {
        "id": "WNwU0M0YCEc_"
      },
      "source": [
        "# Separar os dados\n",
        "X = df[['trestbps', 'age']]"
      ],
      "execution_count": 29,
      "outputs": []
    },
    {
      "cell_type": "code",
      "metadata": {
        "colab": {
          "base_uri": "https://localhost:8080/"
        },
        "id": "Y_NtqZ5hCPD-",
        "outputId": "af975c5e-c7a8-4451-bc7d-b982d19026ff"
      },
      "source": [
        "# Treinar o modelo\n",
        "model.fit(X)"
      ],
      "execution_count": 30,
      "outputs": [
        {
          "output_type": "execute_result",
          "data": {
            "text/plain": [
              "KMeans(algorithm='auto', copy_x=True, init='k-means++', max_iter=300,\n",
              "       n_clusters=3, n_init=10, n_jobs=None, precompute_distances='auto',\n",
              "       random_state=None, tol=0.0001, verbose=0)"
            ]
          },
          "metadata": {
            "tags": []
          },
          "execution_count": 30
        }
      ]
    },
    {
      "cell_type": "code",
      "metadata": {
        "id": "3KfrCj5eCSHv"
      },
      "source": [
        "# Fazer previsões em cima de novos dados\n",
        "y_pred = model.predict(X)"
      ],
      "execution_count": 31,
      "outputs": []
    },
    {
      "cell_type": "code",
      "metadata": {
        "colab": {
          "base_uri": "https://localhost:8080/",
          "height": 265
        },
        "id": "-xJSgpfdCYOv",
        "outputId": "40e6fb64-9f4a-45c2-991b-41b9bb5c6bf0"
      },
      "source": [
        "# Gráfico de Dispersão do Modelo Clusterizado\n",
        "plt.scatter('age', 'trestbps', data=df, c=y_pred, s=40, cmap='viridis')\n",
        "plt.show()"
      ],
      "execution_count": 32,
      "outputs": [
        {
          "output_type": "display_data",
          "data": {
            "image/png": "[encoded data removed]",
            "text/plain": [
              "<Figure size 432x288 with 1 Axes>"
            ]
          },
          "metadata": {
            "tags": [],
            "needs_background": "light"
          }
        }
      ]
    },
    {
      "cell_type": "markdown",
      "metadata": {
        "id": "CKsm9oqPETEQ"
      },
      "source": [
        "# 6) Tente predizer a chance de ocorrer um infarto.\n",
        "\n",
        "Irei utilizar um modelo de Regressão Logística para tentar a predição."
      ]
    },
    {
      "cell_type": "code",
      "metadata": {
        "id": "O1fDHB_AD_9o"
      },
      "source": [
        "# Importar o Sckit-learn para criação do modelo\n",
        "from sklearn.model_selection import train_test_split\n",
        "from sklearn.preprocessing import StandardScaler\n",
        "from sklearn.metrics import classification_report\n",
        "from sklearn.metrics import confusion_matrix"
      ],
      "execution_count": 33,
      "outputs": []
    },
    {
      "cell_type": "code",
      "metadata": {
        "id": "PtLKMUnnFFgQ"
      },
      "source": [
        "# Importando o modelo de Regressão Logística\n",
        "from sklearn.linear_model import LogisticRegression"
      ],
      "execution_count": 34,
      "outputs": []
    },
    {
      "cell_type": "code",
      "metadata": {
        "id": "UxKlvEGtFMaG"
      },
      "source": [
        "# Instanciar o modelo\n",
        "model = LogisticRegression()"
      ],
      "execution_count": 35,
      "outputs": []
    },
    {
      "cell_type": "code",
      "metadata": {
        "id": "oT_7t6rdFQMm"
      },
      "source": [
        "# Criar uma feature matrix e um target vector\n",
        "X = df.drop('target', axis=1)\n",
        "y = df['target']"
      ],
      "execution_count": 37,
      "outputs": []
    },
    {
      "cell_type": "code",
      "metadata": {
        "id": "bZFLC2_VFv5P"
      },
      "source": [
        "# Dividir os dados do dataset entre dados de treino e dados de teste para o modelo\n",
        "X_train, X_test, y_train, y_test = train_test_split(X, y)"
      ],
      "execution_count": 39,
      "outputs": []
    },
    {
      "cell_type": "code",
      "metadata": {
        "id": "BS-ZzHgFF7Cf"
      },
      "source": [
        "# Padronizar os dados para treinar o modelo\n",
        "scaler = StandardScaler().fit(X_train)\n",
        "X_train = scaler.transform(X_train)"
      ],
      "execution_count": 40,
      "outputs": []
    },
    {
      "cell_type": "code",
      "metadata": {
        "colab": {
          "base_uri": "https://localhost:8080/"
        },
        "id": "Su9qK-IyGJi2",
        "outputId": "c0dea5d1-0df6-4704-fb45-6daf9a706fbc"
      },
      "source": [
        "# Treinar o modelo\n",
        "model.fit(X_train, y_train)"
      ],
      "execution_count": 41,
      "outputs": [
        {
          "output_type": "execute_result",
          "data": {
            "text/plain": [
              "LogisticRegression(C=1.0, class_weight=None, dual=False, fit_intercept=True,\n",
              "                   intercept_scaling=1, l1_ratio=None, max_iter=100,\n",
              "                   multi_class='auto', n_jobs=None, penalty='l2',\n",
              "                   random_state=None, solver='lbfgs', tol=0.0001, verbose=0,\n",
              "                   warm_start=False)"
            ]
          },
          "metadata": {
            "tags": []
          },
          "execution_count": 41
        }
      ]
    },
    {
      "cell_type": "code",
      "metadata": {
        "id": "oWq9t21XGNlv"
      },
      "source": [
        "# Fazer previsões em cima dos dados de teste\n",
        "X_test = scaler.transform(X_test) # Padronizar os dados de teste\n",
        "y_pred = model.predict(X_test)"
      ],
      "execution_count": 43,
      "outputs": []
    },
    {
      "cell_type": "code",
      "metadata": {
        "colab": {
          "base_uri": "https://localhost:8080/",
          "height": 295
        },
        "id": "T69NIpADGuTj",
        "outputId": "02bbcbe7-1927-4b23-d813-bc86556a49cf"
      },
      "source": [
        "# Matriz de confusão\n",
        "ig, ax = plt.subplots()\n",
        "sns.heatmap(confusion_matrix(y_test, y_pred), annot=True, ax=ax)\n",
        "\n",
        "ax.set_title(\"Matriz de Confusão\")\n",
        "ax.set_ylabel(\"Verdadeiro\")\n",
        "ax.set_xlabel(\"Previsto\")\n",
        "\n",
        "plt.show()"
      ],
      "execution_count": 48,
      "outputs": [
        {
          "output_type": "display_data",
          "data": {
            "image/png": "[encoded data removed]",
            "text/plain": [
              "<Figure size 432x288 with 2 Axes>"
            ]
          },
          "metadata": {
            "tags": [],
            "needs_background": "light"
          }
        }
      ]
    },
    {
      "cell_type": "code",
      "metadata": {
        "colab": {
          "base_uri": "https://localhost:8080/"
        },
        "id": "7l5T-dlPGaz-",
        "outputId": "5dc650d5-0499-4ddd-ae32-c4a70dcc1d3d"
      },
      "source": [
        "# Relatório de classificação\n",
        "print(classification_report(y_test, y_pred))"
      ],
      "execution_count": 45,
      "outputs": [
        {
          "output_type": "stream",
          "text": [
            "              precision    recall  f1-score   support\n",
            "\n",
            "           0       0.89      0.38      0.53        42\n",
            "           1       0.55      0.94      0.70        34\n",
            "\n",
            "    accuracy                           0.63        76\n",
            "   macro avg       0.72      0.66      0.61        76\n",
            "weighted avg       0.74      0.63      0.61        76\n",
            "\n"
          ],
          "name": "stdout"
        }
      ]
    },
    {
      "cell_type": "markdown",
      "metadata": {
        "id": "5qn0SVluHDwy"
      },
      "source": [
        "Sendo assim, o modelo para predição de infarto mostrado acima, possui uma **acurácia de 63%**."
      ]
    }
  ]
}