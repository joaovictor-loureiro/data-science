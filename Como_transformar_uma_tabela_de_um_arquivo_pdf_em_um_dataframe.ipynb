{
  "nbformat": 4,
  "nbformat_minor": 0,
  "metadata": {
    "colab": {
      "name": "Como_transformar_uma_tabela_de_um_arquivo_pdf_em_um_dataframe.ipynb",
      "provenance": [],
      "collapsed_sections": [],
      "authorship_tag": "ABX9TyNX5seVWGg2NSoi+4+HzflX",
      "include_colab_link": true
    },
    "kernelspec": {
      "name": "python3",
      "display_name": "Python 3"
    }
  },
  "cells": [
    {
      "cell_type": "markdown",
      "metadata": {
        "id": "view-in-github",
        "colab_type": "text"
      },
      "source": [
        "<a href=\"https://colab.research.google.com/github/joaovictor-loureiro/data-science/blob/master/Como_transformar_uma_tabela_de_um_arquivo_pdf_em_um_dataframe.ipynb\" target=\"_parent\"><img src=\"https://colab.research.google.com/assets/colab-badge.svg\" alt=\"Open In Colab\"/></a>"
      ]
    },
    {
      "cell_type": "markdown",
      "metadata": {
        "id": "jxO3TgI0Fe4U"
      },
      "source": [
        "# Como transformar uma tabela de um arquivo PDF em um DataFrame?\n"
      ]
    },
    {
      "cell_type": "markdown",
      "metadata": {
        "id": "Ll2M0_m-4EDp"
      },
      "source": [
        "Neste notebook será apresentado um método para extrair dados de uma tabela, contida em um arquivo PDF, e transforma-los em um DataFrame.\n",
        "\n",
        "Para isso, serão utilizadas as bibliotecas **PDFPlumber** e **Pandas**.\n",
        "\n",
        "Para este exemplo, será utilizado o arquivo <a href=\"https://github.com/joaovictor-loureiro/data-science/blob/master/data-science/arquivos/pdf/Empresa-Relat%C3%B3rio-Mensal.pdf\">Empresa-Relatório-Mensal.pdf</a>\n",
        "\n",
        "Segue abaixo os passos:"
      ]
    },
    {
      "cell_type": "code",
      "metadata": {
        "colab": {
          "base_uri": "https://localhost:8080/"
        },
        "id": "KW7-1-9tFsPJ",
        "outputId": "568ad27a-ec46-451e-af07-b57a6aee0799"
      },
      "source": [
        "# Instalar a biblioteca PDFPlumber (não é nativa do Google Colab)\n",
        "!pip install pdfplumber -q"
      ],
      "execution_count": 1,
      "outputs": [
        {
          "output_type": "stream",
          "text": [
            "\u001b[K     |████████████████████████████████| 51kB 3.6MB/s \n",
            "\u001b[K     |████████████████████████████████| 5.6MB 2.7MB/s \n",
            "\u001b[K     |████████████████████████████████| 143kB 48.4MB/s \n",
            "\u001b[K     |████████████████████████████████| 13.7MB 319kB/s \n",
            "\u001b[?25h  Building wheel for pdfplumber (setup.py) ... \u001b[?25l\u001b[?25hdone\n"
          ],
          "name": "stdout"
        }
      ]
    },
    {
      "cell_type": "code",
      "metadata": {
        "id": "06ykux_QGjoB"
      },
      "source": [
        "# Impotar os pacotes do PDFPlumber e do Pandas\n",
        "import pdfplumber\n",
        "import pandas as pd"
      ],
      "execution_count": 3,
      "outputs": []
    },
    {
      "cell_type": "code",
      "metadata": {
        "id": "yanZpG6UHRd8"
      },
      "source": [
        "# Selecionar o documento PDF que contém a tabela onde deseja extrair os dados\n",
        "pdf = pdfplumber.open('/content/Empresa-Relatório-Mensal.pdf')"
      ],
      "execution_count": 6,
      "outputs": []
    },
    {
      "cell_type": "code",
      "metadata": {
        "colab": {
          "base_uri": "https://localhost:8080/"
        },
        "id": "XJHJ0qWr7T1G",
        "outputId": "6cb32cb4-f365-4ffc-f6b0-a158bb37266c"
      },
      "source": [
        "# Verificar a quantidade de páginas do documento PDF\n",
        "pdf.pages"
      ],
      "execution_count": 7,
      "outputs": [
        {
          "output_type": "execute_result",
          "data": {
            "text/plain": [
              "[<Page:1>]"
            ]
          },
          "metadata": {
            "tags": []
          },
          "execution_count": 7
        }
      ]
    },
    {
      "cell_type": "code",
      "metadata": {
        "id": "isK8AtilI-Nv"
      },
      "source": [
        "# Selecionar a página onde contém a tabela que deseja extrair os dados\n",
        "page = pdf.pages[0]"
      ],
      "execution_count": 8,
      "outputs": []
    },
    {
      "cell_type": "code",
      "metadata": {
        "id": "4rodH7f8JEQN"
      },
      "source": [
        "# Extrair os dados da tabela\n",
        "table = page.extract_table()"
      ],
      "execution_count": 9,
      "outputs": []
    },
    {
      "cell_type": "code",
      "metadata": {
        "id": "q-LnvMIvJfq2"
      },
      "source": [
        "# Transformar os dados extraídos da tabela em um DataFrame\n",
        "dataframe = pd.DataFrame(table[1:], columns=table[0])\n",
        "for column in [\"quantidade_produtos_vendidos\", \"valor_total\"]:\n",
        "    dataframe[column] = dataframe[column].str.replace(\" \", \"\")"
      ],
      "execution_count": 10,
      "outputs": []
    },
    {
      "cell_type": "markdown",
      "metadata": {
        "id": "-0ZI_bPP76Cj"
      },
      "source": [
        "Com isso, o DataFrame já foi criado e a tabela antes presente apenas no arquivo PDF foi transformada em um conjunto de dados que podem ser manuseados aqui no ambiente do Google Colab ou como desejar."
      ]
    },
    {
      "cell_type": "code",
      "metadata": {
        "colab": {
          "base_uri": "https://localhost:8080/",
          "height": 669
        },
        "id": "-3cQTbUMJw0U",
        "outputId": "a35a7e2f-d748-4be3-8c05-a666bb0e7f0d"
      },
      "source": [
        "# Exibindo o database criado\n",
        "dataframe"
      ],
      "execution_count": 11,
      "outputs": [
        {
          "output_type": "execute_result",
          "data": {
            "text/html": [
              "<div>\n",
              "<style scoped>\n",
              "    .dataframe tbody tr th:only-of-type {\n",
              "        vertical-align: middle;\n",
              "    }\n",
              "\n",
              "    .dataframe tbody tr th {\n",
              "        vertical-align: top;\n",
              "    }\n",
              "\n",
              "    .dataframe thead th {\n",
              "        text-align: right;\n",
              "    }\n",
              "</style>\n",
              "<table border=\"1\" class=\"dataframe\">\n",
              "  <thead>\n",
              "    <tr style=\"text-align: right;\">\n",
              "      <th></th>\n",
              "      <th>data</th>\n",
              "      <th>quantidade_produtos_vendidos</th>\n",
              "      <th>valor_total</th>\n",
              "    </tr>\n",
              "  </thead>\n",
              "  <tbody>\n",
              "    <tr>\n",
              "      <th>0</th>\n",
              "      <td>01/11/2020</td>\n",
              "      <td>15</td>\n",
              "      <td>R$20,50</td>\n",
              "    </tr>\n",
              "    <tr>\n",
              "      <th>1</th>\n",
              "      <td>02/11/2020</td>\n",
              "      <td>12</td>\n",
              "      <td>R$17,50</td>\n",
              "    </tr>\n",
              "    <tr>\n",
              "      <th>2</th>\n",
              "      <td>03/11/2020</td>\n",
              "      <td>8</td>\n",
              "      <td>R$10,50</td>\n",
              "    </tr>\n",
              "    <tr>\n",
              "      <th>3</th>\n",
              "      <td>04/11/2020</td>\n",
              "      <td>25</td>\n",
              "      <td>R$25,50</td>\n",
              "    </tr>\n",
              "    <tr>\n",
              "      <th>4</th>\n",
              "      <td>05/11/2020</td>\n",
              "      <td>3</td>\n",
              "      <td>R$8,50</td>\n",
              "    </tr>\n",
              "    <tr>\n",
              "      <th>5</th>\n",
              "      <td>06/11/2020</td>\n",
              "      <td>45</td>\n",
              "      <td>R$50,50</td>\n",
              "    </tr>\n",
              "    <tr>\n",
              "      <th>6</th>\n",
              "      <td>07/11/2020</td>\n",
              "      <td>10</td>\n",
              "      <td>R$14,50</td>\n",
              "    </tr>\n",
              "    <tr>\n",
              "      <th>7</th>\n",
              "      <td>08/11/2020</td>\n",
              "      <td>8</td>\n",
              "      <td>R$12,50</td>\n",
              "    </tr>\n",
              "    <tr>\n",
              "      <th>8</th>\n",
              "      <td>09/11/2020</td>\n",
              "      <td>11</td>\n",
              "      <td>R$15,50</td>\n",
              "    </tr>\n",
              "    <tr>\n",
              "      <th>9</th>\n",
              "      <td>10/11/2020</td>\n",
              "      <td>26</td>\n",
              "      <td>R$27,50</td>\n",
              "    </tr>\n",
              "    <tr>\n",
              "      <th>10</th>\n",
              "      <td>11/11/2020</td>\n",
              "      <td>39</td>\n",
              "      <td>R$39,50</td>\n",
              "    </tr>\n",
              "    <tr>\n",
              "      <th>11</th>\n",
              "      <td>12/11/2020</td>\n",
              "      <td>85</td>\n",
              "      <td>R$75,50</td>\n",
              "    </tr>\n",
              "    <tr>\n",
              "      <th>12</th>\n",
              "      <td>13/11/2020</td>\n",
              "      <td>10</td>\n",
              "      <td>R$14,50</td>\n",
              "    </tr>\n",
              "    <tr>\n",
              "      <th>13</th>\n",
              "      <td>14/11/2020</td>\n",
              "      <td>27</td>\n",
              "      <td>R$25,50</td>\n",
              "    </tr>\n",
              "    <tr>\n",
              "      <th>14</th>\n",
              "      <td>15/11/2020</td>\n",
              "      <td>14</td>\n",
              "      <td>R$12,50</td>\n",
              "    </tr>\n",
              "    <tr>\n",
              "      <th>15</th>\n",
              "      <td>16/11/2020</td>\n",
              "      <td>19</td>\n",
              "      <td>R$44,50</td>\n",
              "    </tr>\n",
              "    <tr>\n",
              "      <th>16</th>\n",
              "      <td>17/11/2020</td>\n",
              "      <td>33</td>\n",
              "      <td>R$25,50</td>\n",
              "    </tr>\n",
              "    <tr>\n",
              "      <th>17</th>\n",
              "      <td>18/11/2020</td>\n",
              "      <td>38</td>\n",
              "      <td>R$39,50</td>\n",
              "    </tr>\n",
              "    <tr>\n",
              "      <th>18</th>\n",
              "      <td>19/11/2020</td>\n",
              "      <td>60</td>\n",
              "      <td>R$96,50</td>\n",
              "    </tr>\n",
              "    <tr>\n",
              "      <th>19</th>\n",
              "      <td>20/11/2020</td>\n",
              "      <td>24</td>\n",
              "      <td>R$37,50</td>\n",
              "    </tr>\n",
              "    <tr>\n",
              "      <th>20</th>\n",
              "      <td>21/11/2020</td>\n",
              "      <td>50</td>\n",
              "      <td>R$80,50</td>\n",
              "    </tr>\n",
              "  </tbody>\n",
              "</table>\n",
              "</div>"
            ],
            "text/plain": [
              "          data quantidade_produtos_vendidos valor_total\n",
              "0   01/11/2020                           15     R$20,50\n",
              "1   02/11/2020                           12     R$17,50\n",
              "2   03/11/2020                            8     R$10,50\n",
              "3   04/11/2020                           25     R$25,50\n",
              "4   05/11/2020                            3      R$8,50\n",
              "5   06/11/2020                           45     R$50,50\n",
              "6   07/11/2020                           10     R$14,50\n",
              "7   08/11/2020                            8     R$12,50\n",
              "8   09/11/2020                           11     R$15,50\n",
              "9   10/11/2020                           26     R$27,50\n",
              "10  11/11/2020                           39     R$39,50\n",
              "11  12/11/2020                           85     R$75,50\n",
              "12  13/11/2020                           10     R$14,50\n",
              "13  14/11/2020                           27     R$25,50\n",
              "14  15/11/2020                           14     R$12,50\n",
              "15  16/11/2020                           19     R$44,50\n",
              "16  17/11/2020                           33     R$25,50\n",
              "17  18/11/2020                           38     R$39,50\n",
              "18  19/11/2020                           60     R$96,50\n",
              "19  20/11/2020                           24     R$37,50\n",
              "20  21/11/2020                           50     R$80,50"
            ]
          },
          "metadata": {
            "tags": []
          },
          "execution_count": 11
        }
      ]
    }
  ]
}