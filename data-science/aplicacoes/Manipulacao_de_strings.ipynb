{
  "nbformat": 4,
  "nbformat_minor": 0,
  "metadata": {
    "colab": {
      "name": "Manipulacao_de_strings",
      "provenance": [],
      "authorship_tag": "ABX9TyOoAEX8yBsbZFIQjx5UuIyN",
      "include_colab_link": true
    },
    "kernelspec": {
      "name": "python3",
      "display_name": "Python 3"
    }
  },
  "cells": [
    {
      "cell_type": "markdown",
      "metadata": {
        "id": "view-in-github",
        "colab_type": "text"
      },
      "source": [
        "<a href=\"https://colab.research.google.com/github/joaovictor-loureiro/data-science/blob/master/Manipulacao_de_strings.ipynb\" target=\"_parent\"><img src=\"https://colab.research.google.com/assets/colab-badge.svg\" alt=\"Open In Colab\"/></a>"
      ]
    },
    {
      "cell_type": "markdown",
      "metadata": {
        "id": "olhEi9u9dI8I"
      },
      "source": [
        "## Manipulação de Strings com Python"
      ]
    },
    {
      "cell_type": "markdown",
      "metadata": {
        "id": "R-1SVTL8dNK9"
      },
      "source": [
        "Neste notebook irei apresentar algumas operações e conceitos, presentes na linguagem de programação Python, para manipulação de strings.\n",
        "\n",
        "<center>\n",
        "\n",
        "<a href=\"https://www.flaticon.com\" target=\"_blank\" alt=\"Ícones feitos por Freepik\" name=\"oo\"><img src='https://raw.githubusercontent.com/joaovictor-loureiro/data-science/master/data-science/arquivos/imagens/python.png' alt=\"Ícones feitos por Freepik from www.flaticon.com\" height='200'></a>\n",
        "\n",
        "</center>\n"
      ]
    },
    {
      "cell_type": "markdown",
      "metadata": {
        "id": "FifwR0jzhYIq"
      },
      "source": [
        "### Imprimindo uma String\n",
        "Para imprimir uma String é utilizado a função `print()`. Ela pode ser usada passando diretamente uma String como parâmetro ou uma variável, veja:"
      ]
    },
    {
      "cell_type": "code",
      "metadata": {
        "colab": {
          "base_uri": "https://localhost:8080/"
        },
        "id": "fbNhdYzbhNRe",
        "outputId": "b4431426-91a4-414c-80a7-b26fc6bd3d5f"
      },
      "source": [
        "# Imprimindo Strings\n",
        "print(\"Olá mundo!\")\n",
        "\n",
        "frase = \"Olá mundo!\"\n",
        "print(frase)"
      ],
      "execution_count": 1,
      "outputs": [
        {
          "output_type": "stream",
          "text": [
            "Olá mundo!\n",
            "Olá mundo!\n"
          ],
          "name": "stdout"
        }
      ]
    },
    {
      "cell_type": "markdown",
      "metadata": {
        "id": "xgypb5bIidbW"
      },
      "source": [
        "###Concatenando Strings\n",
        "Strings também podem ser concatenadas, ou seja, pode-se utilizar diferentes Strings para imprimir a informação desejada. Para isso, basta utilizar o sinal de adição. Segue um exemplo:"
      ]
    },
    {
      "cell_type": "code",
      "metadata": {
        "colab": {
          "base_uri": "https://localhost:8080/"
        },
        "id": "SrgsGanti3Ul",
        "outputId": "f09d66d2-60bb-48be-a29f-36722814b459"
      },
      "source": [
        "# Definindo as variáves\n",
        "cidade = \"Cornélio Procópio\"\n",
        "estado = \"Paraná\"\n",
        "pais = \"Brasil\"\n",
        "\n",
        "# Imprimindo os dados e concatenando as Strings\n",
        "print(\"ENDEREÇO: \" + cidade + \", \" + estado + \" - \" + pais)"
      ],
      "execution_count": 6,
      "outputs": [
        {
          "output_type": "stream",
          "text": [
            "ENDEREÇO: Cornélio Procópio, Paraná - Brasil\n"
          ],
          "name": "stdout"
        }
      ]
    },
    {
      "cell_type": "markdown",
      "metadata": {
        "id": "MA3_kPxhkCUU"
      },
      "source": [
        "### Índices\n",
        "Uma String pode ser divida em índices, a primeira letra da palavra é o índice 0, a segunda letre é o índice 1, a terceira índice 2 e assim por diante. Isso permite pegar apenas uma letra da palavra sem se preocupar com as outras. Veja:"
      ]
    },
    {
      "cell_type": "code",
      "metadata": {
        "colab": {
          "base_uri": "https://localhost:8080/"
        },
        "id": "o6Hjtk9Nks1u",
        "outputId": "a5c32165-d513-4b8a-e4eb-2a3e3169591d"
      },
      "source": [
        "# Definindo uma variável\n",
        "string = \"Manipulação\"\n",
        "\n",
        "# Primeira letra da palavra\n",
        "print(string[0])\n",
        "\n",
        "# Segunda letra da palavra\n",
        "print(string[1])\n",
        "\n",
        "# Última letra da palavra\n",
        "print(string[-1])\n",
        "\n",
        "# Penúltima letra da palavra\n",
        "print(string[-2])"
      ],
      "execution_count": 9,
      "outputs": [
        {
          "output_type": "stream",
          "text": [
            "M\n",
            "a\n",
            "o\n",
            "ã\n"
          ],
          "name": "stdout"
        }
      ]
    },
    {
      "cell_type": "markdown",
      "metadata": {
        "id": "p_ow-jYplXWs"
      },
      "source": [
        "### Tamanho de uma String\n",
        "É possível descobrir o tamanho de uma String por meio da função `len()`.  Veja abaixo:"
      ]
    },
    {
      "cell_type": "code",
      "metadata": {
        "colab": {
          "base_uri": "https://localhost:8080/"
        },
        "id": "1Oc65rqblvcx",
        "outputId": "e95e7094-96af-4aac-dd0d-916392dd8508"
      },
      "source": [
        "# Definindo uma variável\n",
        "string = \"Paralelepípedo\"\n",
        "\n",
        "# Imprimindo o tamanho da variável, utilizando a função len()\n",
        "print(len(string))"
      ],
      "execution_count": 10,
      "outputs": [
        {
          "output_type": "stream",
          "text": [
            "14\n"
          ],
          "name": "stdout"
        }
      ]
    },
    {
      "cell_type": "markdown",
      "metadata": {
        "id": "IZtVSB3KmIR1"
      },
      "source": [
        "Ou seja, a palavra *Paralelepípedo* possui 14 caracteres."
      ]
    },
    {
      "cell_type": "markdown",
      "metadata": {
        "id": "60Gn-6yImsEp"
      },
      "source": [
        "### Função `split()`"
      ]
    },
    {
      "cell_type": "markdown",
      "metadata": {
        "id": "ak5-rgj_mx7j"
      },
      "source": [
        "Serve para separar Strings com base em algum argumento, retornando uma lista com os itens separados. Exemplo:"
      ]
    },
    {
      "cell_type": "code",
      "metadata": {
        "colab": {
          "base_uri": "https://localhost:8080/"
        },
        "id": "ypxNy7G6m7b_",
        "outputId": "da9af68f-23a7-47c9-d3be-9de45aa24793"
      },
      "source": [
        "# Definindo a variável\n",
        "string = \"Laranja - Maçã - Banana - Uva - Morango\"\n",
        "\n",
        "# Suponha que você deseja separar cada fruta em uma String diferente,\n",
        "# como elas tem um 'delimitador' em comum (no caso, o hífen '-'),\n",
        "# pode se passa-lo como argumento para a função split()\n",
        "string.split(\" - \")"
      ],
      "execution_count": 11,
      "outputs": [
        {
          "output_type": "execute_result",
          "data": {
            "text/plain": [
              "['Laranja', 'Maçã', 'Banana', 'Uva', 'Morango']"
            ]
          },
          "metadata": {
            "tags": []
          },
          "execution_count": 11
        }
      ]
    },
    {
      "cell_type": "markdown",
      "metadata": {
        "id": "eEQowbqEn0rp"
      },
      "source": [
        "Como pode-se observar, o resultado foi uma lista com os 5 itens separados."
      ]
    },
    {
      "cell_type": "markdown",
      "metadata": {
        "id": "Hx9HWzOmoGQG"
      },
      "source": [
        "###Função `replace()`"
      ]
    },
    {
      "cell_type": "markdown",
      "metadata": {
        "id": "49_alGBdoKYE"
      },
      "source": [
        "Serve para substituir elementos dentro de uma String. Observe:"
      ]
    },
    {
      "cell_type": "code",
      "metadata": {
        "colab": {
          "base_uri": "https://localhost:8080/",
          "height": 35
        },
        "id": "iqyIYIABoai7",
        "outputId": "c7a827cc-39e4-4194-885a-d1418e017c96"
      },
      "source": [
        "# Definindo a variável\n",
        "string = \"esta-mensagem-não-foi-criptografada\"\n",
        "\n",
        "# Suponha que você deseja substituir os hífens por espaços,\n",
        "# basta informar o que deseja substituir, e o que será inserido no lugar.\n",
        "string.replace('-', ' ')"
      ],
      "execution_count": 12,
      "outputs": [
        {
          "output_type": "execute_result",
          "data": {
            "application/vnd.google.colaboratory.intrinsic+json": {
              "type": "string"
            },
            "text/plain": [
              "'esta mensagem não foi criptografada'"
            ]
          },
          "metadata": {
            "tags": []
          },
          "execution_count": 12
        }
      ]
    },
    {
      "cell_type": "markdown",
      "metadata": {
        "id": "4gxFUtjopXvN"
      },
      "source": [
        "Nesse caso, as palavras que antes eram separadas por hífens, agora são separadas por espaços."
      ]
    },
    {
      "cell_type": "markdown",
      "metadata": {
        "id": "E-wNswJVpphH"
      },
      "source": [
        "###Função `strip()`"
      ]
    },
    {
      "cell_type": "markdown",
      "metadata": {
        "id": "8_438r12p-lJ"
      },
      "source": [
        "Serve para remover espaços em branco ou caracteres indesejados em uma String. Veja o exemplo:"
      ]
    },
    {
      "cell_type": "code",
      "metadata": {
        "colab": {
          "base_uri": "https://localhost:8080/",
          "height": 35
        },
        "id": "XTBmzlbqqJZT",
        "outputId": "a886aae4-f28e-4d04-d460-1d37fba860e0"
      },
      "source": [
        "# Definindo a variável\n",
        "string = \"      Olá Mundo!             \"\n",
        "\n",
        "# Pode-se utilizar a função strip() para remover os espaços em branco\n",
        "# no começo e no final da frase.\n",
        "string.strip()"
      ],
      "execution_count": 13,
      "outputs": [
        {
          "output_type": "execute_result",
          "data": {
            "application/vnd.google.colaboratory.intrinsic+json": {
              "type": "string"
            },
            "text/plain": [
              "'Olá Mundo!'"
            ]
          },
          "metadata": {
            "tags": []
          },
          "execution_count": 13
        }
      ]
    },
    {
      "cell_type": "code",
      "metadata": {
        "colab": {
          "base_uri": "https://localhost:8080/",
          "height": 35
        },
        "id": "9rGGC4w4qj1H",
        "outputId": "3a0f36a0-a1f8-4566-99b8-740ed804e602"
      },
      "source": [
        "# Também pode-se remover caracteres indesejados, exemplo a palavra Olá:\n",
        "string.strip('Olá ')"
      ],
      "execution_count": 15,
      "outputs": [
        {
          "output_type": "execute_result",
          "data": {
            "application/vnd.google.colaboratory.intrinsic+json": {
              "type": "string"
            },
            "text/plain": [
              "'Mundo!'"
            ]
          },
          "metadata": {
            "tags": []
          },
          "execution_count": 15
        }
      ]
    },
    {
      "cell_type": "markdown",
      "metadata": {
        "id": "bPZq2eusrBgj"
      },
      "source": [
        "###Slicing\n",
        "É uma técnica que permite \"cortar\" uma String, usando como referência seus próprios índices. Observe:"
      ]
    },
    {
      "cell_type": "code",
      "metadata": {
        "colab": {
          "base_uri": "https://localhost:8080/"
        },
        "id": "7uTnz0GFrL46",
        "outputId": "f9456867-ba02-427d-9709-568c24b10259"
      },
      "source": [
        "# Definindo a variável\n",
        "string = \"Manipulação\"\n",
        "\n",
        "# Cortando a String para exibir somente as 3 primeiras letras\n",
        "print(string[:3])\n",
        "\n",
        "# Cortando a String para exibir a partir das 7 primeiras letras\n",
        "print(string[7:])\n",
        "\n",
        "# Cortando a String para exibir parte central da palavra\n",
        "print(string[2:8])"
      ],
      "execution_count": 21,
      "outputs": [
        {
          "output_type": "stream",
          "text": [
            "Man\n",
            "ação\n",
            "nipula\n"
          ],
          "name": "stdout"
        }
      ]
    },
    {
      "cell_type": "markdown",
      "metadata": {
        "id": "Tx-nrtncsR9W"
      },
      "source": [
        "Como visto, essa técnica permite múltiplas possibilidades de manipulação da String, possibilitando corta-la da forma que bem entender."
      ]
    },
    {
      "cell_type": "markdown",
      "metadata": {
        "id": "UcIFGE6Cslg3"
      },
      "source": [
        "###Função `capitalize()`"
      ]
    },
    {
      "cell_type": "markdown",
      "metadata": {
        "id": "5NDgq-6xs3wG"
      },
      "source": [
        "Transforma o primeiro caractere da String em **maiúsculo**."
      ]
    },
    {
      "cell_type": "code",
      "metadata": {
        "colab": {
          "base_uri": "https://localhost:8080/",
          "height": 35
        },
        "id": "o_H7Grpfs_Ct",
        "outputId": "19d37977-c887-40fa-da26-83e6db9ca461"
      },
      "source": [
        "# Definindo a variável\n",
        "string = \"manipulação\"\n",
        "\n",
        "# Usando a função capitalize()\n",
        "string.capitalize()"
      ],
      "execution_count": 22,
      "outputs": [
        {
          "output_type": "execute_result",
          "data": {
            "application/vnd.google.colaboratory.intrinsic+json": {
              "type": "string"
            },
            "text/plain": [
              "'Manipulação'"
            ]
          },
          "metadata": {
            "tags": []
          },
          "execution_count": 22
        }
      ]
    },
    {
      "cell_type": "markdown",
      "metadata": {
        "id": "nSr_hyy9tJr7"
      },
      "source": [
        "###Função `lower()`"
      ]
    },
    {
      "cell_type": "markdown",
      "metadata": {
        "id": "7WptejrTtNMy"
      },
      "source": [
        "Transforma todos os carateceres da String em **minúsculo**."
      ]
    },
    {
      "cell_type": "code",
      "metadata": {
        "colab": {
          "base_uri": "https://localhost:8080/",
          "height": 35
        },
        "id": "cxOYmEJZtTcZ",
        "outputId": "b1686f3c-4e9c-438f-8718-6ae89ab8aa27"
      },
      "source": [
        "# Definindo a variável\n",
        "string = \"MANIPULAÇÃO\"\n",
        "\n",
        "# Usando a função lower()\n",
        "string.lower()"
      ],
      "execution_count": 23,
      "outputs": [
        {
          "output_type": "execute_result",
          "data": {
            "application/vnd.google.colaboratory.intrinsic+json": {
              "type": "string"
            },
            "text/plain": [
              "'manipulação'"
            ]
          },
          "metadata": {
            "tags": []
          },
          "execution_count": 23
        }
      ]
    },
    {
      "cell_type": "markdown",
      "metadata": {
        "id": "cJVmQ6hQtdFv"
      },
      "source": [
        "###Função `uper()`"
      ]
    },
    {
      "cell_type": "markdown",
      "metadata": {
        "id": "mWFnduKNtgR2"
      },
      "source": [
        "Transforma todos os caracteres da String em **maiúsculo**."
      ]
    },
    {
      "cell_type": "code",
      "metadata": {
        "colab": {
          "base_uri": "https://localhost:8080/",
          "height": 35
        },
        "id": "upaxIgfEtnVT",
        "outputId": "bc30b9bb-2fdc-44d4-c391-f4a32dd9f821"
      },
      "source": [
        "# Definindo a variável\n",
        "string = \"manipulação\"\n",
        "\n",
        "# Usando a função upper()\n",
        "string.upper()"
      ],
      "execution_count": 24,
      "outputs": [
        {
          "output_type": "execute_result",
          "data": {
            "application/vnd.google.colaboratory.intrinsic+json": {
              "type": "string"
            },
            "text/plain": [
              "'MANIPULAÇÃO'"
            ]
          },
          "metadata": {
            "tags": []
          },
          "execution_count": 24
        }
      ]
    },
    {
      "cell_type": "markdown",
      "metadata": {
        "id": "5Dt-CAy_tueQ"
      },
      "source": [
        "###Função `title()`"
      ]
    },
    {
      "cell_type": "markdown",
      "metadata": {
        "id": "Hl9EZVCptxVK"
      },
      "source": [
        "Transforma a primeira letra de cada palavra em maiúscula."
      ]
    },
    {
      "cell_type": "code",
      "metadata": {
        "colab": {
          "base_uri": "https://localhost:8080/",
          "height": 35
        },
        "id": "ntU2ys9it3qy",
        "outputId": "217eaff7-a7e1-4ca5-b186-a2dc9b35e2d0"
      },
      "source": [
        "# Definindo a variável\n",
        "string = \"maria clara almeida\"\n",
        "\n",
        "# Usando a função title()\n",
        "string.title()"
      ],
      "execution_count": 25,
      "outputs": [
        {
          "output_type": "execute_result",
          "data": {
            "application/vnd.google.colaboratory.intrinsic+json": {
              "type": "string"
            },
            "text/plain": [
              "'Maria Clara Almeida'"
            ]
          },
          "metadata": {
            "tags": []
          },
          "execution_count": 25
        }
      ]
    },
    {
      "cell_type": "markdown",
      "metadata": {
        "id": "wNmF_IjUuDPX"
      },
      "source": [
        "###Função `swapcase()`"
      ]
    },
    {
      "cell_type": "markdown",
      "metadata": {
        "id": "qPPjC-P1uGEW"
      },
      "source": [
        "Transforma as letras maiúsculas em minúsculas e vice-versa em uma String."
      ]
    },
    {
      "cell_type": "code",
      "metadata": {
        "colab": {
          "base_uri": "https://localhost:8080/",
          "height": 35
        },
        "id": "DBP9LU1cuPyy",
        "outputId": "07cdde02-654c-49c9-ee33-6493589c29b2"
      },
      "source": [
        "# Definindo a variável\n",
        "string = \"MANIPULAÇÃO De strings\"\n",
        "\n",
        "# Usando a função swapcase()\n",
        "string.swapcase()"
      ],
      "execution_count": 26,
      "outputs": [
        {
          "output_type": "execute_result",
          "data": {
            "application/vnd.google.colaboratory.intrinsic+json": {
              "type": "string"
            },
            "text/plain": [
              "'manipulação dE STRINGS'"
            ]
          },
          "metadata": {
            "tags": []
          },
          "execution_count": 26
        }
      ]
    }
  ]
}