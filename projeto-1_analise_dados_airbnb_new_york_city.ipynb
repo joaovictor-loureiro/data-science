{
  "nbformat": 4,
  "nbformat_minor": 0,
  "metadata": {
    "colab": {
      "name": "Analisando os Dados do Airbnb (New York City)[Projeto].ipynb",
      "provenance": [],
      "collapsed_sections": [
        "yZWbdCTGFfQh"
      ],
      "authorship_tag": "ABX9TyObeR4Qyn6I3jWDuFeHP1Kp",
      "include_colab_link": true
    },
    "kernelspec": {
      "display_name": "Python 3",
      "name": "python3"
    }
  },
  "cells": [
    {
      "cell_type": "markdown",
      "metadata": {
        "id": "view-in-github",
        "colab_type": "text"
      },
      "source": [
        "<a href=\"https://colab.research.google.com/github/joaovictor-loureiro/data-science/blob/master/projeto-1_analise_dados_airbnb_new_york_city.ipynb\" target=\"_parent\"><img src=\"https://colab.research.google.com/assets/colab-badge.svg\" alt=\"Open In Colab\"/></a>"
      ]
    },
    {
      "cell_type": "markdown",
      "metadata": {
        "id": "DWWH452jyDD2"
      },
      "source": [
        "<span>                                                                            <a href=\"https://sigmoidal.ai/\"><img alt=\"Escola de Data Science Sigmoidal\" width=\"15%\" src=\"https://raw.githubusercontent.com/carlosfab/escola-data-science/master/img/novo_logo_bg_claro.png\"></a>\r\n",
        "  <div>**Projeto do módulo 1 | Curso de Data Science na Prática**</div>\r\n",
        "  <div>*by <a href=\"https://www.linkedin.com/in/joaovictor-loureiro/\">João Victor Loureiro*</a>\r\n",
        "</span>\r\n",
        "\r\n"
      ]
    },
    {
      "cell_type": "markdown",
      "metadata": {
        "id": "OYg7i5urxZTS"
      },
      "source": [
        "#Análise de dados do Airbnb | New York City"
      ]
    },
    {
      "cell_type": "markdown",
      "metadata": {
        "id": "8rrHvQNykvUz"
      },
      "source": [
        "##A maior rede hoteleira do mundo que não possui nenhum quarto de hotel\r\n",
        "\r\n",
        "O [Airbnb](https://www.airbnb.com.br/) é um serviço muito procurado por turistas, viajantes e profissionais que buscam por acomodações ao redor do mundo, seu grande diferencial está nos custos mais baixos e na facilidade de alugar um imóvel sem muita burocracia. Pessoas do mundo inteiro podem oferecer suas casas para usuários que buscam estadia, é possível oferecer desde apenas um quarto ou até mesmo a casa completa.\r\n",
        "\r\n",
        "A plataforma criada em 2008 já se tornou uma das principais no ramo de hospedagens do mundo (mesmo sem possuir nenhum quarto de hotel próprio), e trás um serviço sem muita complexidade, o Airbnb funciona como qualquer outra rede de compartilhamento e oferta de serviços, é necessário apenas criar um perfil na rede e decidir se deseja buscar alguma acomodação ou então, se deseja disponibilizar a sua.\r\n",
        "Hoje o serviço está presente em mais de 30 mil cidades e 192 países, e pode ser a solução ideal para quem busca uma acomodação.\r\n",
        "\r\n",
        "Nesta análise, serão usados os dados do Airbnb referentes a cidade de Nova York, **a maior cidade dos Estados Unidos** e um relevante local de interesse para turistas e profissonais à negócios.\r\n"
      ]
    },
    {
      "cell_type": "markdown",
      "metadata": {
        "id": "lRgB-q57opYq"
      },
      "source": [
        "##Nova York, \"*a cidade que nunca dorme*\"\r\n",
        "\r\n",
        "Com um horizonte conhecido na televisão e nos cinemas de todas as partes do mundo, a cidade de Nova York oferece atrações de todos os tipos. Localizada na costa atlântica nordeste dos Estados Unidos, com cerca de 8,4 milhões de habitantes, a cidade é composta por cinco distritos: Bronx, Brooklyn, Manhattan, Queens e Staten Island. A cidade é popularmente referida como New York City, para diferenciá-la do estado de Nova York, do qual faz parte. Também é conhecida como “a cidade que nunca dorme”, em referência a sua rede de transportes, cuja maioria funciona 24h por dia.\r\n",
        "\r\n",
        "Assim como outras cidades famosas, Nova York também possui seus cartões-postais e monumentos. Na **Times Square** (figura 1) os grandes painéis fazem a noite parecer dia. Na região de Manhattan é possível encontrar centenas de arranha-céus, incluindo o **Empire State Building** (figura 2) e as extintas torres gêmeas do World Trade Center."
      ]
    },
    {
      "cell_type": "markdown",
      "metadata": {
        "id": "JfCQp04isaiP"
      },
      "source": [
        "<center></br>\r\n",
        "    <figcaption><b>Figura 1</b> - Times Square, localizada na região central de Manhattan.</figcaption>\r\n",
        "    <img src=\"https://raw.githubusercontent.com/joaovictor-loureiro/data-science/master/data-science/projetos/Projeto1-Analisando-os-dados-do-Airbnb/img/times-square.jpg\" width=\"50%\">\r\n",
        "    <figcaption>Imagem de <a href=\"https://pixabay.com/pt/users/bruceemmerling-93533/?utm_source=link-attribution&amp;utm_medium=referral&amp;utm_campaign=image&amp;utm_content=3558337\">Bruce Emmerling</a> por <a href=\"https://pixabay.com/pt/?utm_source=link-attribution&amp;utm_medium=referral&amp;utm_campaign=image&amp;utm_content=3558337\">Pixabay</a></figcaption>\r\n",
        "</center>\r\n",
        "\r\n",
        "<center></br>\r\n",
        "    <figcaption><b>Figura 2</b> - Empire State Building, um arranha-céu de 102 andares.</figcaption>\r\n",
        "    <img src=\"https://raw.githubusercontent.com/joaovictor-loureiro/data-science/master/data-science/projetos/Projeto1-Analisando-os-dados-do-Airbnb/img/empire-state-building.jpg\" width=\"50%\">\r\n",
        "    <figcaption>Imagem de <a href=\"https://pixabay.com/photos/?utm_source=link-attribution&amp;utm_medium=referral&amp;utm_campaign=image&amp;utm_content=1081929\">Free-Photos</a> por <a href=\"https://pixabay.com/pt/?utm_source=link-attribution&amp;utm_medium=referral&amp;utm_campaign=image&amp;utm_content=1081929\">Pixabay</a></figcaption>\r\n",
        "</center>\r\n",
        "\r\n"
      ]
    },
    {
      "cell_type": "markdown",
      "metadata": {
        "id": "V6t0pu1HqRw5"
      },
      "source": [
        "Além de ser a cidade mais populosa dos Estados Unidos, Nova York está entre as áreas urbanas mais populosas do mundo, e exerce uma poderosa influência sobre o comércio mundial. Também sendo localidade sede da Organização das Nações Unidas. Um ponto turístico conhecido mundialmente, é a **Estátua da Liberdade** (figura 3), que recebeu milhões de imigrantes que vieram para o país no final do século XIX."
      ]
    },
    {
      "cell_type": "markdown",
      "metadata": {
        "id": "Cn32UlEVteWb"
      },
      "source": [
        "<center></br>\r\n",
        "    <figcaption><b>Figura 3</b> - Um dos principais símbolos norte-americano, a Estátua da Liberdade.</figcaption>\r\n",
        "    <img src=\"https://raw.githubusercontent.com/joaovictor-loureiro/data-science/master/data-science/projetos/Projeto1-Analisando-os-dados-do-Airbnb/img/statue-of-liberty.jpg\" width=\"50%\">\r\n",
        "    <figcaption>Imagem de <a href=\"https://pixabay.com/pt/users/bruceemmerling-93533/?utm_source=link-attribution&amp;utm_medium=referral&amp;utm_campaign=image&amp;utm_content=3558337\">Bruce Emmerling</a> por <a href=\"https://pixabay.com/pt/?utm_source=link-attribution&amp;utm_medium=referral&amp;utm_campaign=image&amp;utm_content=3558337\">Pixabay</a></figcaption>\r\n",
        "</center>"
      ]
    },
    {
      "cell_type": "markdown",
      "metadata": {
        "id": "l_DYGWhc6_3Q"
      },
      "source": [
        "\r\n",
        "Agora que já foi entendido um pouco mais sobre o tema, chegou a hora de trabalhar com os dados. Neste notebook, como já dito anteriormente, serão analisados os dados do Airbnb referentes aos imóveis localizados na cidade de Nova York. O objetivo é identificar algumas informações sobre os imóveis, disponibilizados para locação, e também para extrair *insights* que o conjunto de dados poderá fornecer."
      ]
    },
    {
      "cell_type": "markdown",
      "metadata": {
        "id": "1zwu9TCr9O6a"
      },
      "source": [
        "##Análise exploratória"
      ]
    },
    {
      "cell_type": "markdown",
      "metadata": {
        "id": "jkzY3X3J9XIM"
      },
      "source": [
        "###Obtenção dos dados\r\n",
        "\r\n",
        "Todos os dados que serão importados aqui foram obtidos no site [Inside Airbnb](http://insideairbnb.com/get-the-data.html), que fornece um conjunto de ferramentas e dados que permitem explorar como o Airbnb está realmente sendo usado nas cidades ao redor do mundo. O arquivo selecionado para importação dos dados será o `listings.csv - Summary information and metrics for listings in New York City (good for visualisations)`."
      ]
    },
    {
      "cell_type": "code",
      "metadata": {
        "id": "KehWFj6qNBSa"
      },
      "source": [
        "# Importando os pacotes necessários para realizar a Análise Exploratória\r\n",
        "import pandas as pd\r\n",
        "import matplotlib.pyplot as plt \r\n",
        "import numpy as np\r\n",
        "from matplotlib.patches import Circle\r\n",
        "from matplotlib.offsetbox import (TextArea, DrawingArea, OffsetImage, AnnotationBbox)\r\n",
        "from matplotlib.cbook import get_sample_data\r\n",
        "%matplotlib inline"
      ],
      "execution_count": null,
      "outputs": []
    },
    {
      "cell_type": "code",
      "metadata": {
        "id": "JMhrVCYUNUME"
      },
      "source": [
        "# Importando o arquivo, contendo os dados, para um dataframe\r\n",
        "df = pd.read_csv('http://data.insideairbnb.com/united-states/ny/new-york-city/2020-12-10/visualisations/listings.csv')"
      ],
      "execution_count": null,
      "outputs": []
    },
    {
      "cell_type": "code",
      "metadata": {
        "colab": {
          "base_uri": "https://localhost:8080/",
          "height": 240
        },
        "id": "klAXoOmsNaL7",
        "outputId": "ee0d508b-ee1e-40cf-acff-ecba2fdda3d3"
      },
      "source": [
        "# Exibindo as primeiras entradas do dataframe, para verificar se o mesmo foi importado corretamente\r\n",
        "df.head(3)"
      ],
      "execution_count": null,
      "outputs": [
        {
          "output_type": "execute_result",
          "data": {
            "text/html": [
              "<div>\n",
              "<style scoped>\n",
              "    .dataframe tbody tr th:only-of-type {\n",
              "        vertical-align: middle;\n",
              "    }\n",
              "\n",
              "    .dataframe tbody tr th {\n",
              "        vertical-align: top;\n",
              "    }\n",
              "\n",
              "    .dataframe thead th {\n",
              "        text-align: right;\n",
              "    }\n",
              "</style>\n",
              "<table border=\"1\" class=\"dataframe\">\n",
              "  <thead>\n",
              "    <tr style=\"text-align: right;\">\n",
              "      <th></th>\n",
              "      <th>id</th>\n",
              "      <th>name</th>\n",
              "      <th>host_id</th>\n",
              "      <th>host_name</th>\n",
              "      <th>neighbourhood_group</th>\n",
              "      <th>neighbourhood</th>\n",
              "      <th>latitude</th>\n",
              "      <th>longitude</th>\n",
              "      <th>room_type</th>\n",
              "      <th>price</th>\n",
              "      <th>minimum_nights</th>\n",
              "      <th>number_of_reviews</th>\n",
              "      <th>last_review</th>\n",
              "      <th>reviews_per_month</th>\n",
              "      <th>calculated_host_listings_count</th>\n",
              "      <th>availability_365</th>\n",
              "    </tr>\n",
              "  </thead>\n",
              "  <tbody>\n",
              "    <tr>\n",
              "      <th>0</th>\n",
              "      <td>2595</td>\n",
              "      <td>Skylit Midtown Castle</td>\n",
              "      <td>2845</td>\n",
              "      <td>Jennifer</td>\n",
              "      <td>Manhattan</td>\n",
              "      <td>Midtown</td>\n",
              "      <td>40.75362</td>\n",
              "      <td>-73.98377</td>\n",
              "      <td>Entire home/apt</td>\n",
              "      <td>175</td>\n",
              "      <td>30</td>\n",
              "      <td>48</td>\n",
              "      <td>2019-11-04</td>\n",
              "      <td>0.36</td>\n",
              "      <td>2</td>\n",
              "      <td>365</td>\n",
              "    </tr>\n",
              "    <tr>\n",
              "      <th>1</th>\n",
              "      <td>3831</td>\n",
              "      <td>Whole flr w/private bdrm, bath &amp; kitchen(pls r...</td>\n",
              "      <td>4869</td>\n",
              "      <td>LisaRoxanne</td>\n",
              "      <td>Brooklyn</td>\n",
              "      <td>Clinton Hill</td>\n",
              "      <td>40.68514</td>\n",
              "      <td>-73.95976</td>\n",
              "      <td>Entire home/apt</td>\n",
              "      <td>74</td>\n",
              "      <td>1</td>\n",
              "      <td>375</td>\n",
              "      <td>2020-11-22</td>\n",
              "      <td>4.97</td>\n",
              "      <td>1</td>\n",
              "      <td>307</td>\n",
              "    </tr>\n",
              "    <tr>\n",
              "      <th>2</th>\n",
              "      <td>5121</td>\n",
              "      <td>BlissArtsSpace!</td>\n",
              "      <td>7356</td>\n",
              "      <td>Garon</td>\n",
              "      <td>Brooklyn</td>\n",
              "      <td>Bedford-Stuyvesant</td>\n",
              "      <td>40.68688</td>\n",
              "      <td>-73.95596</td>\n",
              "      <td>Private room</td>\n",
              "      <td>60</td>\n",
              "      <td>30</td>\n",
              "      <td>50</td>\n",
              "      <td>2019-12-02</td>\n",
              "      <td>0.36</td>\n",
              "      <td>1</td>\n",
              "      <td>365</td>\n",
              "    </tr>\n",
              "  </tbody>\n",
              "</table>\n",
              "</div>"
            ],
            "text/plain": [
              "     id  ... availability_365\n",
              "0  2595  ...              365\n",
              "1  3831  ...              307\n",
              "2  5121  ...              365\n",
              "\n",
              "[3 rows x 16 columns]"
            ]
          },
          "metadata": {
            "tags": []
          },
          "execution_count": 32
        }
      ]
    },
    {
      "cell_type": "markdown",
      "metadata": {
        "id": "7w7rF8OrDz3D"
      },
      "source": [
        "###Dimensionamento e identificação dos dados\r\n",
        "\r\n",
        "É importante ter em mente o volume dos dados que serão analisados e os tipos de variáveis que eles representam. Esta etapa tem como objetivo criar uma consciência situacional inicial e permitir um entendimento de como os dados estão estruturados."
      ]
    },
    {
      "cell_type": "code",
      "metadata": {
        "colab": {
          "base_uri": "https://localhost:8080/"
        },
        "id": "3xipy7zeNklH",
        "outputId": "b841cf6e-85aa-41e8-bc60-c0803118429f"
      },
      "source": [
        "# Identificando o volume de dados do dataframe\r\n",
        "print(\"\\tVOLUME DE DADOS\")\r\n",
        "print(\"Número de entradas (linhas): \\t {}\".format(df.shape[0]))\r\n",
        "print(\"Número de variáveis (colunas): \\t {}\".format(df.shape[1]))"
      ],
      "execution_count": null,
      "outputs": [
        {
          "output_type": "stream",
          "text": [
            "\tVOLUME DE DADOS\n",
            "Número de entradas (linhas): \t 36923\n",
            "Número de variáveis (colunas): \t 16\n"
          ],
          "name": "stdout"
        }
      ]
    },
    {
      "cell_type": "code",
      "metadata": {
        "colab": {
          "base_uri": "https://localhost:8080/"
        },
        "id": "p22oecFZOXhi",
        "outputId": "29459970-68bb-4077-c6ec-37e42d505183"
      },
      "source": [
        "# Identificando o tipo das variáveis\r\n",
        "df.dtypes"
      ],
      "execution_count": null,
      "outputs": [
        {
          "output_type": "execute_result",
          "data": {
            "text/plain": [
              "id                                  int64\n",
              "name                               object\n",
              "host_id                             int64\n",
              "host_name                          object\n",
              "neighbourhood_group                object\n",
              "neighbourhood                      object\n",
              "latitude                          float64\n",
              "longitude                         float64\n",
              "room_type                          object\n",
              "price                               int64\n",
              "minimum_nights                      int64\n",
              "number_of_reviews                   int64\n",
              "last_review                        object\n",
              "reviews_per_month                 float64\n",
              "calculated_host_listings_count      int64\n",
              "availability_365                    int64\n",
              "dtype: object"
            ]
          },
          "metadata": {
            "tags": []
          },
          "execution_count": 34
        }
      ]
    },
    {
      "cell_type": "markdown",
      "metadata": {
        "id": "yZWbdCTGFfQh"
      },
      "source": [
        "####Dicionário das variáveis\r\n",
        "\r\n",
        "* `id` - Número de ID gerado para identificar o imóvel.\r\n",
        "* `name` - Nome do imóvel anunciado.\r\n",
        "* `host_id` - Número de ID do proprietário (anfitrião) do imóvel.\r\n",
        "* `host_name` - Nome do proprietário (anfitrião) do imóvel.\r\n",
        "* `neighbourhood_group` - Distrito onde o imóvel fica localizado.\r\n",
        "* `neighbourhood` - Bairro onde o imóvel fica localizado.\r\n",
        "* `latitude` - Coordenada da latitude do imóvel.\r\n",
        "* `longitude` - Coordenada da longitude do imóvel.\r\n",
        "* `room_type` - Informa o tipo de quarto que é oferecido.\r\n",
        "* `price` - Preço para alugar o imóvel.\r\n",
        "* `minimum_nights` - Quantidade mínima de noites para reservar.\r\n",
        "* `number_of_reviews` - Número de reviews (avaliações) que a propriedade possui.\r\n",
        "* `last_review` - Data do último review (avaliação).\r\n",
        "* `reviews_per_month` - Quantidade de reviews por mês (avaliação).\r\n",
        "* `calculated_host_listings_count` - Quantidade de imóveis do mesmo anfitrião.\r\n",
        "* `availability_365` - Número de dias de disponibilidade do imóvel (dentro de 365 dias)."
      ]
    },
    {
      "cell_type": "markdown",
      "metadata": {
        "id": "ofAlBI6LRv6P"
      },
      "source": [
        "####Dados ausentes e/ou inválidos\r\n",
        "\r\n",
        "A qualidade de um dataset está diretamente relacionada à quantidade de valores ausentes. É importante entender logo no início se esses valores nulos são significativos comparados ao total de entradas."
      ]
    },
    {
      "cell_type": "code",
      "metadata": {
        "colab": {
          "base_uri": "https://localhost:8080/"
        },
        "id": "cM_bh8PdOb_A",
        "outputId": "931d47de-f272-4b52-c4c7-525f505d8030"
      },
      "source": [
        "# Identificando a porcentagem de valores ausentes no dataframe\r\n",
        "round((df.isnull().sum() / df.shape[0] * 100), 2).sort_values(ascending=False)"
      ],
      "execution_count": null,
      "outputs": [
        {
          "output_type": "execute_result",
          "data": {
            "text/plain": [
              "reviews_per_month                 25.42\n",
              "last_review                       25.42\n",
              "name                               0.04\n",
              "host_name                          0.02\n",
              "availability_365                   0.00\n",
              "calculated_host_listings_count     0.00\n",
              "number_of_reviews                  0.00\n",
              "minimum_nights                     0.00\n",
              "price                              0.00\n",
              "room_type                          0.00\n",
              "longitude                          0.00\n",
              "latitude                           0.00\n",
              "neighbourhood                      0.00\n",
              "neighbourhood_group                0.00\n",
              "host_id                            0.00\n",
              "id                                 0.00\n",
              "dtype: float64"
            ]
          },
          "metadata": {
            "tags": []
          },
          "execution_count": 35
        }
      ]
    },
    {
      "cell_type": "markdown",
      "metadata": {
        "id": "aX23YvYJSXC3"
      },
      "source": [
        "* Apenas 4 variáveis possuem valores nulos, sendo apenas 2 em quantidade significativa.\r\n",
        "* As variáveis `reviews_per_month` e `last_review` possuem cerca de 1/4 de seus valores ausentes, cada uma.\r\n",
        "* As variáveis `name` e `host_name` possuem menos de 0,1% de seus valores nulos, ou seja, não é uma quantidade significativa comparado ao total de entradas."
      ]
    },
    {
      "cell_type": "markdown",
      "metadata": {
        "id": "54tF1Ds1Tce0"
      },
      "source": [
        "####Remoção de dados desnecessários\r\n",
        "\r\n",
        "Nem todas as variáveis presentes no conjunto de dados são úteis para a análise exploratória que está sendo feita. Portanto, elas serão removidas a fim de simplificar o dataframe.\r\n",
        "São elas:\r\n",
        "\r\n",
        "* `reviews_per_month`\r\n",
        "* `last_review`\r\n",
        "* `availability_365`\r\n",
        "* `calculated_host_listings_count`\r\n",
        "* `host_id`\r\n",
        "* `id`"
      ]
    },
    {
      "cell_type": "code",
      "metadata": {
        "id": "Mt8Yu9JxOwsZ"
      },
      "source": [
        "# Eliminando as variáveis com alto valor de dados ausentes e outras que não serão úteis para a análise\r\n",
        "df.drop(['reviews_per_month', 'last_review', 'availability_365', 'calculated_host_listings_count', 'host_id','id'], axis=1, inplace=True)"
      ],
      "execution_count": null,
      "outputs": []
    },
    {
      "cell_type": "code",
      "metadata": {
        "colab": {
          "base_uri": "https://localhost:8080/",
          "height": 246
        },
        "id": "mwxm3QkY9fUQ",
        "outputId": "09499295-9737-4f49-809d-3baa1d0d67c9"
      },
      "source": [
        "# Exibindo as entradas do dataframe novamente, agora sem as variáveis que foram removidas\r\n",
        "df.head()"
      ],
      "execution_count": null,
      "outputs": [
        {
          "output_type": "execute_result",
          "data": {
            "text/html": [
              "<div>\n",
              "<style scoped>\n",
              "    .dataframe tbody tr th:only-of-type {\n",
              "        vertical-align: middle;\n",
              "    }\n",
              "\n",
              "    .dataframe tbody tr th {\n",
              "        vertical-align: top;\n",
              "    }\n",
              "\n",
              "    .dataframe thead th {\n",
              "        text-align: right;\n",
              "    }\n",
              "</style>\n",
              "<table border=\"1\" class=\"dataframe\">\n",
              "  <thead>\n",
              "    <tr style=\"text-align: right;\">\n",
              "      <th></th>\n",
              "      <th>name</th>\n",
              "      <th>host_name</th>\n",
              "      <th>neighbourhood_group</th>\n",
              "      <th>neighbourhood</th>\n",
              "      <th>latitude</th>\n",
              "      <th>longitude</th>\n",
              "      <th>room_type</th>\n",
              "      <th>price</th>\n",
              "      <th>minimum_nights</th>\n",
              "      <th>number_of_reviews</th>\n",
              "    </tr>\n",
              "  </thead>\n",
              "  <tbody>\n",
              "    <tr>\n",
              "      <th>0</th>\n",
              "      <td>Skylit Midtown Castle</td>\n",
              "      <td>Jennifer</td>\n",
              "      <td>Manhattan</td>\n",
              "      <td>Midtown</td>\n",
              "      <td>40.75362</td>\n",
              "      <td>-73.98377</td>\n",
              "      <td>Entire home/apt</td>\n",
              "      <td>175</td>\n",
              "      <td>30</td>\n",
              "      <td>48</td>\n",
              "    </tr>\n",
              "    <tr>\n",
              "      <th>1</th>\n",
              "      <td>Whole flr w/private bdrm, bath &amp; kitchen(pls r...</td>\n",
              "      <td>LisaRoxanne</td>\n",
              "      <td>Brooklyn</td>\n",
              "      <td>Clinton Hill</td>\n",
              "      <td>40.68514</td>\n",
              "      <td>-73.95976</td>\n",
              "      <td>Entire home/apt</td>\n",
              "      <td>74</td>\n",
              "      <td>1</td>\n",
              "      <td>375</td>\n",
              "    </tr>\n",
              "    <tr>\n",
              "      <th>2</th>\n",
              "      <td>BlissArtsSpace!</td>\n",
              "      <td>Garon</td>\n",
              "      <td>Brooklyn</td>\n",
              "      <td>Bedford-Stuyvesant</td>\n",
              "      <td>40.68688</td>\n",
              "      <td>-73.95596</td>\n",
              "      <td>Private room</td>\n",
              "      <td>60</td>\n",
              "      <td>30</td>\n",
              "      <td>50</td>\n",
              "    </tr>\n",
              "    <tr>\n",
              "      <th>3</th>\n",
              "      <td>Large Furnished Room Near B'way</td>\n",
              "      <td>Shunichi</td>\n",
              "      <td>Manhattan</td>\n",
              "      <td>Midtown</td>\n",
              "      <td>40.76468</td>\n",
              "      <td>-73.98315</td>\n",
              "      <td>Private room</td>\n",
              "      <td>65</td>\n",
              "      <td>2</td>\n",
              "      <td>474</td>\n",
              "    </tr>\n",
              "    <tr>\n",
              "      <th>4</th>\n",
              "      <td>Cozy Clean Guest Room - Family Apt</td>\n",
              "      <td>MaryEllen</td>\n",
              "      <td>Manhattan</td>\n",
              "      <td>Upper West Side</td>\n",
              "      <td>40.80178</td>\n",
              "      <td>-73.96723</td>\n",
              "      <td>Private room</td>\n",
              "      <td>75</td>\n",
              "      <td>2</td>\n",
              "      <td>118</td>\n",
              "    </tr>\n",
              "  </tbody>\n",
              "</table>\n",
              "</div>"
            ],
            "text/plain": [
              "                                                name  ... number_of_reviews\n",
              "0                              Skylit Midtown Castle  ...                48\n",
              "1  Whole flr w/private bdrm, bath & kitchen(pls r...  ...               375\n",
              "2                                    BlissArtsSpace!  ...                50\n",
              "3                   Large Furnished Room Near B'way　  ...               474\n",
              "4                 Cozy Clean Guest Room - Family Apt  ...               118\n",
              "\n",
              "[5 rows x 10 columns]"
            ]
          },
          "metadata": {
            "tags": []
          },
          "execution_count": 37
        }
      ]
    },
    {
      "cell_type": "code",
      "metadata": {
        "colab": {
          "base_uri": "https://localhost:8080/"
        },
        "id": "C4dB6dWKWKaw",
        "outputId": "2045c4ae-5907-43a2-b34d-60e799d1f042"
      },
      "source": [
        "# Recalculando o volume de dados do dataframe após a remoção das variáveis específicas acima\r\n",
        "print(\"\\tVOLUME DE DADOS\")\r\n",
        "print(\"Número de entradas (linhas): \\t {}\".format(df.shape[0]))\r\n",
        "print(\"Número de variáveis (colunas): \\t {}\".format(df.shape[1]))"
      ],
      "execution_count": null,
      "outputs": [
        {
          "output_type": "stream",
          "text": [
            "\tVOLUME DE DADOS\n",
            "Número de entradas (linhas): \t 36923\n",
            "Número de variáveis (colunas): \t 10\n"
          ],
          "name": "stdout"
        }
      ]
    },
    {
      "cell_type": "markdown",
      "metadata": {
        "id": "VhtYRG9hWY0Q"
      },
      "source": [
        "* O número de variáveis (colunas) que antes eram 16, agora passou a ser 10."
      ]
    },
    {
      "cell_type": "markdown",
      "metadata": {
        "id": "-U-ynk7bWrlb"
      },
      "source": [
        "###Análise estatística"
      ]
    },
    {
      "cell_type": "markdown",
      "metadata": {
        "id": "3LeTjOHAX7m5"
      },
      "source": [
        "####Distribuição das variáveis\r\n",
        "\r\n",
        "Para identificar a distribuição das variáveis, será plotado os histogramas das variáveis numéricas `price`, `minimum_nights` e `number_of_reviews`."
      ]
    },
    {
      "cell_type": "code",
      "metadata": {
        "colab": {
          "base_uri": "https://localhost:8080/",
          "height": 608
        },
        "id": "yM60MGpuPrBF",
        "outputId": "9cb98c56-ad83-40cc-f960-a911fed1327b"
      },
      "source": [
        "# Plotando o histograma das variáveis\r\n",
        "df[['price', 'minimum_nights', 'number_of_reviews']].hist(bins=10, figsize=(15,10))\r\n",
        "plt.show()"
      ],
      "execution_count": null,
      "outputs": [
        {
          "output_type": "display_data",
          "data": {
            "image/png": "[encoded data removed]",
            "text/plain": [
              "<Figure size 1080x720 with 4 Axes>"
            ]
          },
          "metadata": {
            "tags": [],
            "needs_background": "light"
          }
        }
      ]
    },
    {
      "cell_type": "markdown",
      "metadata": {
        "id": "jHjNGbAYZTtm"
      },
      "source": [
        "Observando os histogramas acima, pode-se concluir que:\r\n",
        "\r\n",
        "* É possível verificar indícios da presença de outliers nos dados das três variáveis (`price`, `minimum_nights` e `number_of_reviews`). Os valores não seguem uma distribuição, e distorcem toda a representação gráfica"
      ]
    },
    {
      "cell_type": "markdown",
      "metadata": {
        "id": "sMxArvTWZwpF"
      },
      "source": [
        "####Identificação e remoção de *outliers*\r\n",
        "\r\n",
        "Há duas maneiras rápidas que auxiliam na detecção de outliers, o resumo estatístico das variáveis e o `boxplot` de cada uma delas. Veja abaixo:"
      ]
    },
    {
      "cell_type": "markdown",
      "metadata": {
        "id": "fkpZqBmPh3y8"
      },
      "source": [
        "#####Resumo estatístico\r\n",
        "\r\n",
        "Segue abaixo o resumo estatístico das variáveis `price` e `minimum_nights`, que são as que mais interessam."
      ]
    },
    {
      "cell_type": "code",
      "metadata": {
        "colab": {
          "base_uri": "https://localhost:8080/",
          "height": 286
        },
        "id": "iM5qipd6QAUK",
        "outputId": "3f791321-5e6d-4562-cea3-b8c62e8ff07f"
      },
      "source": [
        "# Resumo estatístico das variáveis\r\n",
        "df[['price', 'minimum_nights']].describe()"
      ],
      "execution_count": null,
      "outputs": [
        {
          "output_type": "execute_result",
          "data": {
            "text/html": [
              "<div>\n",
              "<style scoped>\n",
              "    .dataframe tbody tr th:only-of-type {\n",
              "        vertical-align: middle;\n",
              "    }\n",
              "\n",
              "    .dataframe tbody tr th {\n",
              "        vertical-align: top;\n",
              "    }\n",
              "\n",
              "    .dataframe thead th {\n",
              "        text-align: right;\n",
              "    }\n",
              "</style>\n",
              "<table border=\"1\" class=\"dataframe\">\n",
              "  <thead>\n",
              "    <tr style=\"text-align: right;\">\n",
              "      <th></th>\n",
              "      <th>price</th>\n",
              "      <th>minimum_nights</th>\n",
              "    </tr>\n",
              "  </thead>\n",
              "  <tbody>\n",
              "    <tr>\n",
              "      <th>count</th>\n",
              "      <td>36923.000000</td>\n",
              "      <td>36923.000000</td>\n",
              "    </tr>\n",
              "    <tr>\n",
              "      <th>mean</th>\n",
              "      <td>145.921187</td>\n",
              "      <td>23.674647</td>\n",
              "    </tr>\n",
              "    <tr>\n",
              "      <th>std</th>\n",
              "      <td>268.388200</td>\n",
              "      <td>26.779132</td>\n",
              "    </tr>\n",
              "    <tr>\n",
              "      <th>min</th>\n",
              "      <td>0.000000</td>\n",
              "      <td>1.000000</td>\n",
              "    </tr>\n",
              "    <tr>\n",
              "      <th>25%</th>\n",
              "      <td>61.000000</td>\n",
              "      <td>4.000000</td>\n",
              "    </tr>\n",
              "    <tr>\n",
              "      <th>50%</th>\n",
              "      <td>100.000000</td>\n",
              "      <td>30.000000</td>\n",
              "    </tr>\n",
              "    <tr>\n",
              "      <th>75%</th>\n",
              "      <td>159.000000</td>\n",
              "      <td>30.000000</td>\n",
              "    </tr>\n",
              "    <tr>\n",
              "      <th>max</th>\n",
              "      <td>10000.000000</td>\n",
              "      <td>1250.000000</td>\n",
              "    </tr>\n",
              "  </tbody>\n",
              "</table>\n",
              "</div>"
            ],
            "text/plain": [
              "              price  minimum_nights\n",
              "count  36923.000000    36923.000000\n",
              "mean     145.921187       23.674647\n",
              "std      268.388200       26.779132\n",
              "min        0.000000        1.000000\n",
              "25%       61.000000        4.000000\n",
              "50%      100.000000       30.000000\n",
              "75%      159.000000       30.000000\n",
              "max    10000.000000     1250.000000"
            ]
          },
          "metadata": {
            "tags": []
          },
          "execution_count": 40
        }
      ]
    },
    {
      "cell_type": "markdown",
      "metadata": {
        "id": "mMSuxQs9iQ2r"
      },
      "source": [
        "Observando o resumo estatístico acima, podemos confirmar algumas hipóteses como:\r\n",
        "\r\n",
        "* A variável `price` possui 75% dos valores abaixo de 159, porém seu valor máximo é 10000.\r\n",
        "* A variável `minimum_nights` possui 75% dos valores abaixo de 30, porém seu valor máximo é 1250, muito acima de 1 ano."
      ]
    },
    {
      "cell_type": "markdown",
      "metadata": {
        "id": "_-sf3pFHjfew"
      },
      "source": [
        "#####Boxplot\r\n",
        "\r\n",
        "A fim de observar melhor esses outliers, que foram detectados com base no resumo estatístico das variáveis, serão plotados os boxplot para cada variável."
      ]
    },
    {
      "cell_type": "markdown",
      "metadata": {
        "id": "nClo_aqNmSXV"
      },
      "source": [
        "######Boxplot `price`\r\n",
        "\r\n"
      ]
    },
    {
      "cell_type": "code",
      "metadata": {
        "colab": {
          "base_uri": "https://localhost:8080/",
          "height": 211
        },
        "id": "P9BejBldRhgv",
        "outputId": "389f9c73-a134-4c4e-c177-7fa880bf2ec0"
      },
      "source": [
        "# Boxplot da variável 'price'\r\n",
        "df.price.plot(kind='box', vert=False, figsize=(15,3))\r\n",
        "plt.show()"
      ],
      "execution_count": null,
      "outputs": [
        {
          "output_type": "display_data",
          "data": {
            "image/png": "[encoded data removed]",
            "text/plain": [
              "<Figure size 1080x216 with 1 Axes>"
            ]
          },
          "metadata": {
            "tags": [],
            "needs_background": "light"
          }
        }
      ]
    },
    {
      "cell_type": "markdown",
      "metadata": {
        "id": "5hkQiA9LmkTu"
      },
      "source": [
        "Como era esperado, a variável `price` possui outliers. Baseando-se no resumo estatístico e após testar alguns índices, pôde-se concluir que são os valores acima de 250. Portanto, é preciso calcular o volume desses outliers, para uma possível remoção."
      ]
    },
    {
      "cell_type": "code",
      "metadata": {
        "colab": {
          "base_uri": "https://localhost:8080/"
        },
        "id": "qXefnG5_mg83",
        "outputId": "5c44ebef-dbcf-4c9c-d019-67db115f6405"
      },
      "source": [
        "# Ver quantidade de valores acima de 250 para 'price'\r\n",
        "print(\"\\nprice - valores acima de 250:\")\r\n",
        "print(\"\\t{} entradas\".format(len(df[df.price > 250])))\r\n",
        "print(\"\\t{:.2f}% do total de entradas\".format((len(df[df.price > 250]) / df.shape[0]) * 100))"
      ],
      "execution_count": null,
      "outputs": [
        {
          "output_type": "stream",
          "text": [
            "\n",
            "price - valores acima de 250:\n",
            "\t3504 entradas\n",
            "\t9.49% do total de entradas\n"
          ],
          "name": "stdout"
        }
      ]
    },
    {
      "cell_type": "markdown",
      "metadata": {
        "id": "mw4wfH5tnslv"
      },
      "source": [
        "Sendo assim, os dados considerados outliers da variável `price` representam 9,49% do total de entradas."
      ]
    },
    {
      "cell_type": "markdown",
      "metadata": {
        "id": "Zqk-TCdbkJZM"
      },
      "source": [
        "######Boxplot `minimum_nights`"
      ]
    },
    {
      "cell_type": "code",
      "metadata": {
        "colab": {
          "base_uri": "https://localhost:8080/",
          "height": 211
        },
        "id": "cdRFqoylQTVs",
        "outputId": "8969f31d-748a-4230-aa56-d5a3f8b8f462"
      },
      "source": [
        "# Boxplot da variável 'minimum_nights'\r\n",
        "df.minimum_nights.plot(kind='box', vert=False, figsize=(15,3))\r\n",
        "plt.show()"
      ],
      "execution_count": null,
      "outputs": [
        {
          "output_type": "display_data",
          "data": {
            "image/png": "[encoded data removed]",
            "text/plain": [
              "<Figure size 1080x216 with 1 Axes>"
            ]
          },
          "metadata": {
            "tags": [],
            "needs_background": "light"
          }
        }
      ]
    },
    {
      "cell_type": "markdown",
      "metadata": {
        "id": "bX4g-eVdkr58"
      },
      "source": [
        "Como era esperado, a variável `minimum_nights` possui outliers. E provavelmente, baseando-se no resumo estatístico, são os valores acima de 30. Portanto, é preciso calcular o volume desses outliers, para uma possível remoção."
      ]
    },
    {
      "cell_type": "code",
      "metadata": {
        "colab": {
          "base_uri": "https://localhost:8080/"
        },
        "id": "yOYDuwE6lFAd",
        "outputId": "54c02743-668d-469f-b352-6b6ae1ad0c9d"
      },
      "source": [
        "# Ver quantidade de valroes acime de 30 dias para 'minimum_nights'\r\n",
        "print(\"\\nminimum_nights - valores acima de 30:\")\r\n",
        "print(\"\\t{} entradas\".format(len(df[df.minimum_nights > 30])))\r\n",
        "print(\"\\t{:.2f}% do total de entradas\".format((len(df[df.minimum_nights > 30]) / df.shape[0]) * 100))"
      ],
      "execution_count": null,
      "outputs": [
        {
          "output_type": "stream",
          "text": [
            "\n",
            "minimum_nights - valores acima de 30:\n",
            "\t1172 entradas\n",
            "\t3.17% do total de entradas\n"
          ],
          "name": "stdout"
        }
      ]
    },
    {
      "cell_type": "markdown",
      "metadata": {
        "id": "6DSH8RXZl1Sd"
      },
      "source": [
        "Sendo assim, os dados considerados outliers da variável `minimum_nights` representam 3,17% do total de entradas."
      ]
    },
    {
      "cell_type": "markdown",
      "metadata": {
        "id": "zioh-I9Yo-o6"
      },
      "source": [
        "#####Coeficiente de variação\r\n",
        "\r\n",
        "Serão calculados os coeficientes de variação das variáveis `price` e `minimum_nights` para analisar a variabilidade, em termos relativos a seu valor médio, de seus dados.\r\n",
        "\r\n",
        "Indicadores do coeficiente:\r\n",
        "\r\n",
        "* Menor ou igual a 15% → Baixa dispersão: dados homogêneos\r\n",
        "* Entre 15% e 30%      → Média dispersão\r\n",
        "* Maior que 30%        → Alta dispersão: dados heterogêneos"
      ]
    },
    {
      "cell_type": "code",
      "metadata": {
        "colab": {
          "base_uri": "https://localhost:8080/"
        },
        "id": "joXL6cZIrGL-",
        "outputId": "a84f582b-4adf-4d3a-a260-03c74c833775"
      },
      "source": [
        "# Calculando os coeficientes de variação\r\n",
        "print(\"Coeficiente de variação | 'price' = {}%\".format(round((df.price.std() / df.price.mean()) * 100, 2)))\r\n",
        "print(\"Coeficiente de variação | 'minimum_nights' = {}%\".format(round((df.minimum_nights.std() / df.minimum_nights.mean()) * 100, 2)))"
      ],
      "execution_count": null,
      "outputs": [
        {
          "output_type": "stream",
          "text": [
            "Coeficiente de variação | 'price' = 183.93%\n",
            "Coeficiente de variação | 'minimum_nights' = 113.11%\n"
          ],
          "name": "stdout"
        }
      ]
    },
    {
      "cell_type": "markdown",
      "metadata": {
        "id": "VgPhskrVtCIz"
      },
      "source": [
        "Como pode ser observado acima, os coeficientes de variação estão altíssimos. Deixando claro que os dados estão muito dispersos, provavelmente, por conta dos outliers presentes em ambas as variáveis."
      ]
    },
    {
      "cell_type": "markdown",
      "metadata": {
        "id": "lYBOrtSCtcZ3"
      },
      "source": [
        "#####Eliminando os outliers\r\n",
        "\r\n",
        "Como calculado mais acima, os outliers das variáveis `price` e `minimum_nights` representam 9,49% e 3,17%, respectivamente, do valor total de entradas de cada variável. Sendo assim, eles serão removidos."
      ]
    },
    {
      "cell_type": "code",
      "metadata": {
        "id": "wzZC_pUASw4l"
      },
      "source": [
        "# Removendo os outliers das variáveis 'price' e 'minimum_nights'\r\n",
        "df.drop(df[df.minimum_nights > 30].index, axis=0, inplace=True)\r\n",
        "df.drop(df[df.price > 250].index, axis=0, inplace=True)"
      ],
      "execution_count": null,
      "outputs": []
    },
    {
      "cell_type": "markdown",
      "metadata": {
        "id": "e_S5O7jKuEYk"
      },
      "source": [
        "Após a remoção dos outliers, pode-se calcular novamente os coeficientes de variação e observar se eles apresentam um resultado mais próximo do esperado."
      ]
    },
    {
      "cell_type": "code",
      "metadata": {
        "colab": {
          "base_uri": "https://localhost:8080/"
        },
        "id": "u1Z4ALZquZjJ",
        "outputId": "74ed8455-7ce7-4f52-b07f-a167d6b0e1de"
      },
      "source": [
        "# Calculando os coeficientes de variação\r\n",
        "print(\"Coeficiente de variação | 'price' = {}%\".format(round((df.price.std() / df.price.mean()) * 100, 2)))\r\n",
        "print(\"Coeficiente de variação | 'minimum_nights' = {}%\".format(round((df.minimum_nights.std() / df.minimum_nights.mean()) * 100, 2)))"
      ],
      "execution_count": null,
      "outputs": [
        {
          "output_type": "stream",
          "text": [
            "Coeficiente de variação | 'price' = 53.63%\n",
            "Coeficiente de variação | 'minimum_nights' = 58.99%\n"
          ],
          "name": "stdout"
        }
      ]
    },
    {
      "cell_type": "markdown",
      "metadata": {
        "id": "HY00z8oruqDu"
      },
      "source": [
        "Apesar dos coeficientes ainda continuarem altos, houve uma boa redução em comparação aos mesmos antes da limpeza dos outliers. Portanto, a visualização gráfica dos dados já deve ter tido uma melhora."
      ]
    },
    {
      "cell_type": "markdown",
      "metadata": {
        "id": "8ucIRAiD22Qb"
      },
      "source": [
        "####Histogramas\r\n",
        "\r\n",
        "Agora, sem a presença dos outliers, serão plotados os histogramas das variáveis `price` e `minimum_nights` novamente. Para se ter uma melhor observação de suas distribuições."
      ]
    },
    {
      "cell_type": "code",
      "metadata": {
        "colab": {
          "base_uri": "https://localhost:8080/",
          "height": 655
        },
        "id": "_4MBkzXiTMlf",
        "outputId": "2880bfe2-89cf-41b9-eb3c-cd30d20fdbbf"
      },
      "source": [
        "# Plotando o histograma para as variáveis 'minimum_nights' e 'price'\r\n",
        "df[['minimum_nights']].hist(bins=6, figsize=(10,5));\r\n",
        "df[['price']].hist(bins=10, figsize=(10,5));"
      ],
      "execution_count": null,
      "outputs": [
        {
          "output_type": "display_data",
          "data": {
            "image/png": "[encoded data removed]",
            "text/plain": [
              "<Figure size 720x360 with 1 Axes>"
            ]
          },
          "metadata": {
            "tags": [],
            "needs_background": "light"
          }
        },
        {
          "output_type": "display_data",
          "data": {
            "image/png": "[encoded data removed]",
            "text/plain": [
              "<Figure size 720x360 with 1 Axes>"
            ]
          },
          "metadata": {
            "tags": [],
            "needs_background": "light"
          }
        }
      ]
    },
    {
      "cell_type": "markdown",
      "metadata": {
        "id": "yaFXLPVM5HdE"
      },
      "source": [
        "Agora é possível perceber algumas informações através dos histogramas, como:\r\n",
        "\r\n",
        "* A maior parte dos imóveis tem como requisito uma quantidade mínima variando entre 25 e 30 noites, para se fazer uma reserva.\r\n",
        "* E o preço para locação da maior parte dos imóveis varia entre algo em torno de 25 a 125 dólares."
      ]
    },
    {
      "cell_type": "markdown",
      "metadata": {
        "id": "kOUhvgS-5oz2"
      },
      "source": [
        "###Extração de *insights*\r\n",
        "\r\n",
        "Após essa breve análise estatística é possível extrair algumas informações, que podem ser obtidas, manipulando o conjunto de dados."
      ]
    },
    {
      "cell_type": "markdown",
      "metadata": {
        "id": "hRt6Hsfu8Tvd"
      },
      "source": [
        "####Tipo dos imóveis disponíveis para locação em Nova York"
      ]
    },
    {
      "cell_type": "code",
      "metadata": {
        "colab": {
          "base_uri": "https://localhost:8080/"
        },
        "id": "nZ8gRWmYYAD_",
        "outputId": "6bb714fa-2259-4ed1-e7eb-2840e34a0d46"
      },
      "source": [
        "# Porcentagem de cada tipo de imóvel disponível\r\n",
        "tipo_de_imoveis = round((df.room_type.value_counts() / df.shape[0]) * 100, 2).sort_values(ascending=False)\r\n",
        "print(tipo_de_imoveis)\r\n",
        "\r\n",
        "# Pegando apenas o valor de cada tipo de imóvel\r\n",
        "tipo_de_imoveis = tipo_de_imoveis.values"
      ],
      "execution_count": null,
      "outputs": [
        {
          "output_type": "stream",
          "text": [
            "Entire home/apt    48.84\n",
            "Private room       48.68\n",
            "Shared room         1.93\n",
            "Hotel room          0.55\n",
            "Name: room_type, dtype: float64\n"
          ],
          "name": "stdout"
        }
      ]
    },
    {
      "cell_type": "code",
      "metadata": {
        "colab": {
          "base_uri": "https://localhost:8080/",
          "height": 600
        },
        "id": "qfmTBwEweb5t",
        "outputId": "b23808bf-b0e0-4e42-ff2d-701b32662a52"
      },
      "source": [
        "# Plotando o gráfico para os tipos de imóveis disponíveis\r\n",
        "entire_home = tipo_de_imoveis[0]\r\n",
        "private_room = tipo_de_imoveis[1]\r\n",
        "shared_room = tipo_de_imoveis[2]\r\n",
        "hotel_room = tipo_de_imoveis[3]\r\n",
        "\r\n",
        "fig, ax = plt.subplots(figsize=(5, 8))\r\n",
        "\r\n",
        "imoveis = ['']\r\n",
        "\r\n",
        "ax.bar(imoveis, entire_home, color=\"#0AA439\", width=0.5)\r\n",
        "ax.bar(imoveis, private_room, color=\"#23C554\", bottom=entire_home, width=0.5)\r\n",
        "ax.bar(imoveis, shared_room, color=\"#98F3B4\", bottom=entire_home+private_room, width=0.5)\r\n",
        "ax.bar(imoveis, hotel_room, color=\"#CDFCDB\", bottom=entire_home+private_room+shared_room, width=0.5)\r\n",
        "ax.bar(imoveis, height=0, width=1)\r\n",
        "\r\n",
        "ax.set_xlabel('')\r\n",
        "ax.set_title('Imóveis disponíveis para locacação em Nova York\\n', horizontalalignment='right', fontsize=18, color='#8f8d8d')\r\n",
        "ax.axis('off')\r\n",
        "\r\n",
        "ax.annotate('48.8%', fontsize=30, xy=(0.125, entire_home / 2), xytext=(0.5, entire_home / 2), color='#0AA439')\r\n",
        "ax.annotate('Casa / Apartamento inteiro', fontsize=20, xy=(0.125, entire_home / 2), xytext=(0.9, entire_home / 2), color='#0AA439')\r\n",
        "\r\n",
        "ax.annotate('48.7%', fontsize=30, xy=(0.125, private_room / 2), xytext=(0.5, (private_room / 2) + entire_home), color='#23C554')\r\n",
        "ax.annotate('Quarto privado', fontsize=20, xy=(0.125, private_room / 2), xytext=(0.9, (private_room / 2) + entire_home), color='#23C554')\r\n",
        "\r\n",
        "ax.annotate('1.9%', fontsize=15, xy=(0.125, shared_room / 2), xytext=(0.5, (shared_room / 2) + entire_home + private_room - 1), color='#b3b1b1')\r\n",
        "ax.annotate('Quarto compartilhado', fontsize=12, xy=(0.125, shared_room / 2), xytext=(0.7, (shared_room / 2) + entire_home + private_room - 1), color='#b3b1b1')\r\n",
        "\r\n",
        "ax.annotate('0.6%', fontsize=15, xy=(0.125, 2), xytext=(0.5, (hotel_room / 2) + entire_home + private_room + shared_room + 1), color='#b3b1b1')\r\n",
        "ax.annotate('Quarto de hotel', fontsize=12, xy=(0.125, 2), xytext=(0.7, (hotel_room / 2) + entire_home + private_room + shared_room + 1), color='#b3b1b1')\r\n",
        "\r\n",
        "# Fix the display limits to see everything\r\n",
        "ax.set_xlim(0, 1)\r\n",
        "ax.set_ylim(0, 100)\r\n",
        "ax.invert_yaxis()\r\n",
        "\r\n",
        "# plt.savefig('grafico-imoveis-disponiveis-em-nova-york.jpeg', format='jpeg', quality=100, dpi = 300, bbox_inches='tight')\r\n",
        "plt.show()"
      ],
      "execution_count": null,
      "outputs": [
        {
          "output_type": "display_data",
          "data": {
            "image/png": "[encoded data removed]",
            "text/plain": [
              "<Figure size 500x800 with 1 Axes>"
            ]
          },
          "metadata": {
            "tags": []
          }
        }
      ]
    },
    {
      "cell_type": "code",
      "metadata": {
        "colab": {
          "base_uri": "https://localhost:8080/"
        },
        "id": "_fz_s0EgZhpj",
        "outputId": "fb724ba2-686d-4257-b210-d854c8f6254d"
      },
      "source": [
        "# Quantidade de cada tipo de imóvel disponível\r\n",
        "df.room_type.value_counts()"
      ],
      "execution_count": null,
      "outputs": [
        {
          "output_type": "execute_result",
          "data": {
            "text/plain": [
              "Entire home/apt    15809\n",
              "Private room       15758\n",
              "Shared room          626\n",
              "Hotel room           178\n",
              "Name: room_type, dtype: int64"
            ]
          },
          "metadata": {
            "tags": []
          },
          "execution_count": 51
        }
      ]
    },
    {
      "cell_type": "markdown",
      "metadata": {
        "id": "sd7t5nJYoBsq"
      },
      "source": [
        "Como pôde ser visto no gráfico e nos dados, a maior parte dos imóveis disponíveis para locação na cidade de Nova York, ou são casas/apartamentos inteiros ou são quartos privados. Isso pode representar que, a grande maioria dos hóspedes preferem acomodações mais privativas e individuais. O percentual de imóveis com quarto compartilhado é extremamente baixo, cerca de 2% do total de imóveis disponíveis, o que reforça essa ideia, de que a procura por acomodações desse tipo é bem baixa."
      ]
    },
    {
      "cell_type": "markdown",
      "metadata": {
        "id": "Y2wVX9ftqYCM"
      },
      "source": [
        "####Localidades mais caras"
      ]
    },
    {
      "cell_type": "code",
      "metadata": {
        "id": "WG2M7nY4ZpXm"
      },
      "source": [
        "# Localidades mais caras (por distrito)\r\n",
        "distritos_mais_caros = tuple(df.groupby(['neighbourhood_group']).price.mean().sort_values(ascending=False).index)\r\n",
        "distritos_mais_caros_values = tuple(df.groupby(['neighbourhood_group']).price.mean().sort_values(ascending=False).values)"
      ],
      "execution_count": null,
      "outputs": []
    },
    {
      "cell_type": "code",
      "metadata": {
        "colab": {
          "base_uri": "https://localhost:8080/"
        },
        "id": "ZF9t6StsbyJz",
        "outputId": "a8c5bb27-05d5-42cd-d736-4052c35f5865"
      },
      "source": [
        "# Resumo estatístico da variável 'price'\r\n",
        "df.price.describe()"
      ],
      "execution_count": null,
      "outputs": [
        {
          "output_type": "execute_result",
          "data": {
            "text/plain": [
              "count    32371.000000\n",
              "mean       103.219301\n",
              "std         55.358324\n",
              "min          0.000000\n",
              "25%         60.000000\n",
              "50%         90.000000\n",
              "75%        140.000000\n",
              "max        250.000000\n",
              "Name: price, dtype: float64"
            ]
          },
          "metadata": {
            "tags": []
          },
          "execution_count": 53
        }
      ]
    },
    {
      "cell_type": "code",
      "metadata": {
        "colab": {
          "base_uri": "https://localhost:8080/",
          "height": 504
        },
        "id": "iYsbY7fysLmy",
        "outputId": "651728e3-2826-43b2-a4a7-9fd442fab33a"
      },
      "source": [
        "# Plotando o gráfico das localidades mais caras\r\n",
        "plt.rcdefaults()\r\n",
        "fig, ax = plt.subplots()\r\n",
        "\r\n",
        "ax.barh(distritos_mais_caros, distritos_mais_caros_values, align='center', color=['#0AA439', '#23C554', '#54E07E', '#98F3B4', '#CDFCDB'])\r\n",
        "ax.spines['top'].set_visible(False)\r\n",
        "ax.spines['right'].set_visible(False)\r\n",
        "ax.spines['bottom'].set_color('#d9d9d9')\r\n",
        "ax.spines['left'].set_color('#d9d9d9')\r\n",
        "ax.get_xaxis().tick_bottom()\r\n",
        "ax.get_yaxis().tick_left()\r\n",
        "ax.set_yticklabels(distritos_mais_caros, fontsize=11)\r\n",
        "ax.invert_yaxis()  # labels read top-to-bottom\r\n",
        "ax.tick_params(axis='x', colors='#786d6d')\r\n",
        "ax.tick_params(axis='y', colors='#786d6d')\r\n",
        "\r\n",
        "ax.set_xlabel('Performance')\r\n",
        "ax.set_title('Localidades mais caras em Nova York\\n', color='#8f8d8d', horizontalalignment='right', fontsize=15)\r\n",
        "ax.set_xlabel(\"Valor médio de locação dos imóveis (em dólares)\", labelpad=10, size=9, color='#9e9191')\r\n",
        "ax.axvline(df.price.mean(), color='#09897B', alpha=0.5)\r\n",
        "\r\n",
        "ax.annotate('Valor médio de Nova York: $103', fontsize=10, xy=(0.5, 2), xytext=(102, -0.67), color='#09897B')\r\n",
        "ax.annotate('$119', fontsize=15, xy=(0.5, 2), xytext=(105, 0.1), color='#fff')\r\n",
        "ax.annotate('$97', fontsize=15, xy=(0.5, 2), xytext=(86.5, 1.1), color='#fff')\r\n",
        "ax.annotate('$90', fontsize=15, xy=(0.5, 2), xytext=(79.5, 2.1), color='#fff')\r\n",
        "# ax.annotate('$79', fontsize=15, xy=(0.5, 2), xytext=(69, 3.1), color='#dbdbdb')\r\n",
        "# ax.annotate('$78', fontsize=15, xy=(0.5, 2), xytext=(67, 4.1), color='#dbdbdb')\r\n",
        "\r\n",
        "# plt.savefig('grafico-localidades-mais-caras-em-nova-york.jpeg', format='jpeg', quality=100, dpi = 300, bbox_inches='tight')\r\n",
        "plt.show()"
      ],
      "execution_count": null,
      "outputs": [
        {
          "output_type": "display_data",
          "data": {
            "image/png": "[encoded data removed]",
            "text/plain": [
              "<Figure size 640x480 with 1 Axes>"
            ]
          },
          "metadata": {
            "tags": []
          }
        }
      ]
    },
    {
      "cell_type": "markdown",
      "metadata": {
        "id": "-emdnqECVmyd"
      },
      "source": [
        "Como é possível observar no gráfico acima, o distrito com aluguéis mais caros é Manhattan. Com um aluguel médio de \\$119. Em contrapartida, Queens e Bronx são os que possuem aluguéis bem abaixo da média da cidade de Nova York, com valores em torno de $80."
      ]
    },
    {
      "cell_type": "markdown",
      "metadata": {
        "id": "IW6zOkGoZdoY"
      },
      "source": [
        "####Locais mais populares de Nova York no Airbnb\r\n",
        "\r\n",
        "No gráfico a seguir, pode-se observar os locais onde se encontram os imóveis com maior número de reviews (avaliações) na plataforma do Airbnb. Tal indicador pode revelar que provavelmente  esses locais, com um grande número de avaliações, são também os mais populares da cidade. Visto que, o número de avaliações está diretamente relacionado com o número de visitantes que locaram o imóvel."
      ]
    },
    {
      "cell_type": "code",
      "metadata": {
        "colab": {
          "base_uri": "https://localhost:8080/"
        },
        "id": "PHqbwF3vcYw5",
        "outputId": "5e7e96c6-167c-4632-b195-74358916761e"
      },
      "source": [
        "# Imóveis com maior número de reviews\r\n",
        "maior_reviews = tuple(df.groupby(['neighbourhood', 'neighbourhood_group']).number_of_reviews.sum().sort_values(ascending=False).head(5).values)\r\n",
        "print(df.groupby(['neighbourhood', 'neighbourhood_group']).number_of_reviews.sum().sort_values(ascending=False).head(5))"
      ],
      "execution_count": null,
      "outputs": [
        {
          "output_type": "stream",
          "text": [
            "neighbourhood       neighbourhood_group\n",
            "Bedford-Stuyvesant  Brooklyn               80363\n",
            "Williamsburg        Brooklyn               52565\n",
            "Harlem              Manhattan              51708\n",
            "Bushwick            Brooklyn               32565\n",
            "Hell's Kitchen      Manhattan              29847\n",
            "Name: number_of_reviews, dtype: int64\n"
          ],
          "name": "stdout"
        }
      ]
    },
    {
      "cell_type": "code",
      "metadata": {
        "colab": {
          "base_uri": "https://localhost:8080/",
          "height": 504
        },
        "id": "5Q2rx4p1dFGI",
        "outputId": "b725f5a1-2ae3-4535-e70d-8c885da1752e"
      },
      "source": [
        "# Plotando o gráfico de locais mais populares\r\n",
        "plt.rcdefaults()\r\n",
        "fig, ax = plt.subplots()\r\n",
        "\r\n",
        "ax.barh(distritos_mais_caros, maior_reviews, align='center', color=['#0AA439', '#23C554', '#54E07E', '#98F3B4', '#CDFCDB'])\r\n",
        "ax.spines['top'].set_visible(False)\r\n",
        "ax.spines['right'].set_visible(False)\r\n",
        "ax.spines['bottom'].set_color('#d9d9d9')\r\n",
        "ax.spines['left'].set_color('#d9d9d9')\r\n",
        "ax.get_xaxis().tick_bottom()\r\n",
        "ax.get_yaxis().tick_left()\r\n",
        "ax.set_yticklabels(('Bedford-Stuyvesant | Brooklyn', 'Williamsburg | Brooklyn', 'Harlem | Manhattan', 'Bushwick | Brooklyn', 'Hell\\'s Kitchen | Manhattan'), fontsize=11)\r\n",
        "ax.invert_yaxis()  # labels read top-to-bottom\r\n",
        "ax.tick_params(axis='x', colors='#786d6d')\r\n",
        "ax.tick_params(axis='y', colors='#786d6d')\r\n",
        "\r\n",
        "ax.set_title('Locais mais populares de Nova York no Airbnb\\n', color='#8f8d8d', horizontalalignment='right', fontsize=15)\r\n",
        "ax.set_xlabel(\"Número de reviews (avaliações) dos imóveis\", labelpad=10, size=9, color='#9e9191')\r\n",
        "\r\n",
        "# plt.savefig('grafico-locais-mais-populares-de-nova-york-no-airbnb.jpeg', format='jpeg', quality=100, dpi = 300, bbox_inches='tight')\r\n",
        "plt.show()"
      ],
      "execution_count": null,
      "outputs": [
        {
          "output_type": "display_data",
          "data": {
            "image/png": "[encoded data removed]",
            "text/plain": [
              "<Figure size 640x480 with 1 Axes>"
            ]
          },
          "metadata": {
            "tags": []
          }
        }
      ]
    },
    {
      "cell_type": "markdown",
      "metadata": {
        "id": "K5u4P75YvRZf"
      },
      "source": [
        "Bedford-Stuyvesant (popularmente conhecida como Bed-Stuy), no Brooklyn, é a localidade que possui os imóveis com maior número de reviews na cidade de Nova York. Coincidentemente, ou não, Bed-Stuy é o cenário de uma famosa série de TV: Everybody Hates Chris (Todo Mundo Odeia o Chris), uma comédia dramática inspirada nas experiências pessoais do ator e comediante Chris Rock, durante a década de 80. "
      ]
    },
    {
      "cell_type": "markdown",
      "metadata": {
        "id": "vR_JALh0w7m6"
      },
      "source": [
        "##Conclusão\r\n",
        "\r\n",
        "Apesar do *dataset* possuir *outliers*, o que atrapalhou a visualização inicial da distribuição das variáveis, foi possível removê-los. E por meio dessa análise, foi possível extrair algumas informações interessantes sobre as acomodações disponíveis na cidade de Nova York.\r\n",
        "\r\n",
        "A grande maioria dos imóveis para locação são casas e apartamentos inteiros ou quartos privativos, sendo bem baixo o número de acomodações compartilhadas. Isso revela que os visitantes têm maior preferência por imóveis individuais e com maior privacidade.\r\n",
        "\r\n",
        "Manhattan é o distrito com o valor médio de aluguel mais caro, custando \\$119 (valor acima da média da cidade de Nova York, que é $103). Para quem busca acomodações por um custo mais baixo, provavelmente as localidades com as melhores opções são no Bronx e no Queens, cujo valor médio para locação de imóveis é em torno de \\$80.\r\n",
        "\r\n",
        "Essa foi apenas uma análise superficial utilizando uma base de dados disponibilizada pelo Airbnb. Empresa, que sem dúvidas, se tornou uma das mais populares do ramo hoteleiro no mundo. \r\n",
        "\r\n",
        "Por fim, lembra-se que esse *dataset* utilizado na análise é uma versão resumida, ideal apenas para uma abordagem inicial. Para uma análise exploratória mais aprofundada, recomenda-se que seja usado o conjunto de dados completos.\r\n",
        "\r\n",
        "Esse notebook foi desenvolvido para fins didáticos, para colocar em prática os conhecimentos adquiridos no **Curso de Data Science na Prática** da [Sigmoidal](https://sigmoidal.ai/) (Escola de Data Science e Machine Learning)."
      ]
    },
    {
      "cell_type": "markdown",
      "metadata": {
        "id": "L3xrT_E9xA5z"
      },
      "source": [
        "##Referências\r\n",
        "\r\n",
        "MORALES, Fernanda. Airbnb: a história da startup que, hoje, vale 1 bilhão de dólares. Canaltech. Disponível em: < https://canaltech.com.br/curiosidades/Airbnb-Plataforma-de-de-hospedagens-traz-opcoes-para-todo-o-tipo-de-turista/ >. Acesso em: 13 de jan. de 2021.\r\n",
        "\r\n",
        "GARRETT, Filipe. O que é Airbnb?. Techtudo, 2017. Disponível em: < https://www.techtudo.com.br/dicas-e-tutoriais/noticia/2017/01/o-que-e-airbnb.html >. Acesso em: 13 de jan. de 2021.\r\n",
        "\r\n",
        "SOBRE Nós. Airbnb Newsroom. Disponível em: < https://news.airbnb.com/br/about-us/ >. Acesso em: 13 de jan. de 2021.\r\n",
        "\r\n",
        "NOVA York: de locais famosos a tesouros ocultos | Visit The USA. VisiteOsUSA. Disponível em: < https://www.visiteosusa.com.br/destination/cidade-de-nova-york >. Acesso em: 13 de jan. de 2021.\r\n",
        "\r\n",
        "NEW York. S7 Estados Unidos. Disponível em: < https://estadosunidosbrasil.com.br/cidades/new-york/ >. Acesso em: 13 de jan. de 2021."
      ]
    }
  ]
}