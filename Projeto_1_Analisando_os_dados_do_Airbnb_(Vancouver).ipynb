{
  "nbformat": 4,
  "nbformat_minor": 0,
  "metadata": {
    "colab": {
      "name": "Projeto_1_Analisando_os_dados_do_Airbnb_(Vancouver).ipynb",
      "provenance": [],
      "authorship_tag": "ABX9TyM4SONV9AJZMXcfen+wNalf",
      "include_colab_link": true
    },
    "kernelspec": {
      "name": "python3",
      "display_name": "Python 3"
    }
  },
  "cells": [
    {
      "cell_type": "markdown",
      "metadata": {
        "id": "view-in-github",
        "colab_type": "text"
      },
      "source": [
        "<a href=\"https://colab.research.google.com/github/joaovictor-loureiro/data-science/blob/master/Projeto_1_Analisando_os_dados_do_Airbnb_(Vancouver).ipynb\" target=\"_parent\"><img src=\"https://colab.research.google.com/assets/colab-badge.svg\" alt=\"Open In Colab\"/></a>"
      ]
    },
    {
      "cell_type": "markdown",
      "metadata": {
        "id": "vtDNzRPtJYZQ",
        "colab_type": "text"
      },
      "source": [
        "<img src=\"https://raw.githubusercontent.com/joaovictor-loureiro/data-science/master/img/banner-projeto1.jpg\" width=\"2500\">\n",
        "\n",
        "\n",
        "\n",
        "*by [João Victor](https://www.linkedin.com/in/jo%C3%A3o-victor-loureiro-366089177/)*\n",
        "\n",
        "\n",
        "---\n"
      ]
    }
  ]
}